{
  "cells": [
    {
      "cell_type": "code",
      "execution_count": 57,
      "metadata": {
        "id": "9NXyzgHRj_OK"
      },
      "outputs": [],
      "source": [
        "import pandas as pd\n",
        "import numpy as np\n",
        "from matplotlib import pyplot as plt\n",
        "%matplotlib inline\n",
        "import matplotlib\n",
        "matplotlib.rcParams[\"figure.figsize\"]=(20,10)"
      ]
    },
    {
      "cell_type": "code",
      "execution_count": 58,
      "metadata": {
        "id": "lNpSzy-ujaaR"
      },
      "outputs": [],
      "source": [
        "df = pd.read_csv('./train.csv')"
      ]
    },
    {
      "cell_type": "code",
      "execution_count": 59,
      "metadata": {
        "colab": {
          "base_uri": "https://localhost:8080/",
          "height": 206
        },
        "id": "qvYkqufikgYh",
        "outputId": "24b47a75-459b-4e06-e322-212727200432"
      },
      "outputs": [
        {
          "data": {
            "text/html": [
              "<div>\n",
              "<style scoped>\n",
              "    .dataframe tbody tr th:only-of-type {\n",
              "        vertical-align: middle;\n",
              "    }\n",
              "\n",
              "    .dataframe tbody tr th {\n",
              "        vertical-align: top;\n",
              "    }\n",
              "\n",
              "    .dataframe thead th {\n",
              "        text-align: right;\n",
              "    }\n",
              "</style>\n",
              "<table border=\"1\" class=\"dataframe\">\n",
              "  <thead>\n",
              "    <tr style=\"text-align: right;\">\n",
              "      <th></th>\n",
              "      <th>Unnamed: 0</th>\n",
              "      <th>Name</th>\n",
              "      <th>Location</th>\n",
              "      <th>Year</th>\n",
              "      <th>Kilometers_Driven</th>\n",
              "      <th>Fuel_Type</th>\n",
              "      <th>Transmission</th>\n",
              "      <th>Owner_Type</th>\n",
              "      <th>Mileage</th>\n",
              "      <th>Engine</th>\n",
              "      <th>Power</th>\n",
              "      <th>Seats</th>\n",
              "      <th>New_Price</th>\n",
              "      <th>Price</th>\n",
              "    </tr>\n",
              "  </thead>\n",
              "  <tbody>\n",
              "    <tr>\n",
              "      <th>0</th>\n",
              "      <td>1</td>\n",
              "      <td>Hyundai Creta 1.6 CRDi SX Option</td>\n",
              "      <td>Pune</td>\n",
              "      <td>2015</td>\n",
              "      <td>41000</td>\n",
              "      <td>Diesel</td>\n",
              "      <td>Manual</td>\n",
              "      <td>First</td>\n",
              "      <td>19.67 kmpl</td>\n",
              "      <td>1582 CC</td>\n",
              "      <td>126.2 bhp</td>\n",
              "      <td>5.0</td>\n",
              "      <td>NaN</td>\n",
              "      <td>12.50</td>\n",
              "    </tr>\n",
              "    <tr>\n",
              "      <th>1</th>\n",
              "      <td>2</td>\n",
              "      <td>Honda Jazz V</td>\n",
              "      <td>Chennai</td>\n",
              "      <td>2011</td>\n",
              "      <td>46000</td>\n",
              "      <td>Petrol</td>\n",
              "      <td>Manual</td>\n",
              "      <td>First</td>\n",
              "      <td>13 km/kg</td>\n",
              "      <td>1199 CC</td>\n",
              "      <td>88.7 bhp</td>\n",
              "      <td>5.0</td>\n",
              "      <td>8.61 Lakh</td>\n",
              "      <td>4.50</td>\n",
              "    </tr>\n",
              "    <tr>\n",
              "      <th>2</th>\n",
              "      <td>3</td>\n",
              "      <td>Maruti Ertiga VDI</td>\n",
              "      <td>Chennai</td>\n",
              "      <td>2012</td>\n",
              "      <td>87000</td>\n",
              "      <td>Diesel</td>\n",
              "      <td>Manual</td>\n",
              "      <td>First</td>\n",
              "      <td>20.77 kmpl</td>\n",
              "      <td>1248 CC</td>\n",
              "      <td>88.76 bhp</td>\n",
              "      <td>7.0</td>\n",
              "      <td>NaN</td>\n",
              "      <td>6.00</td>\n",
              "    </tr>\n",
              "    <tr>\n",
              "      <th>3</th>\n",
              "      <td>4</td>\n",
              "      <td>Audi A4 New 2.0 TDI Multitronic</td>\n",
              "      <td>Coimbatore</td>\n",
              "      <td>2013</td>\n",
              "      <td>40670</td>\n",
              "      <td>Diesel</td>\n",
              "      <td>Automatic</td>\n",
              "      <td>Second</td>\n",
              "      <td>15.2 kmpl</td>\n",
              "      <td>1968 CC</td>\n",
              "      <td>140.8 bhp</td>\n",
              "      <td>5.0</td>\n",
              "      <td>NaN</td>\n",
              "      <td>17.74</td>\n",
              "    </tr>\n",
              "    <tr>\n",
              "      <th>4</th>\n",
              "      <td>6</td>\n",
              "      <td>Nissan Micra Diesel XV</td>\n",
              "      <td>Jaipur</td>\n",
              "      <td>2013</td>\n",
              "      <td>86999</td>\n",
              "      <td>Diesel</td>\n",
              "      <td>Manual</td>\n",
              "      <td>First</td>\n",
              "      <td>23.08 kmpl</td>\n",
              "      <td>1461 CC</td>\n",
              "      <td>63.1 bhp</td>\n",
              "      <td>5.0</td>\n",
              "      <td>NaN</td>\n",
              "      <td>3.50</td>\n",
              "    </tr>\n",
              "  </tbody>\n",
              "</table>\n",
              "</div>"
            ],
            "text/plain": [
              "   Unnamed: 0                              Name    Location  Year  \\\n",
              "0           1  Hyundai Creta 1.6 CRDi SX Option        Pune  2015   \n",
              "1           2                      Honda Jazz V     Chennai  2011   \n",
              "2           3                 Maruti Ertiga VDI     Chennai  2012   \n",
              "3           4   Audi A4 New 2.0 TDI Multitronic  Coimbatore  2013   \n",
              "4           6            Nissan Micra Diesel XV      Jaipur  2013   \n",
              "\n",
              "   Kilometers_Driven Fuel_Type Transmission Owner_Type     Mileage   Engine  \\\n",
              "0              41000    Diesel       Manual      First  19.67 kmpl  1582 CC   \n",
              "1              46000    Petrol       Manual      First    13 km/kg  1199 CC   \n",
              "2              87000    Diesel       Manual      First  20.77 kmpl  1248 CC   \n",
              "3              40670    Diesel    Automatic     Second   15.2 kmpl  1968 CC   \n",
              "4              86999    Diesel       Manual      First  23.08 kmpl  1461 CC   \n",
              "\n",
              "       Power  Seats  New_Price  Price  \n",
              "0  126.2 bhp    5.0        NaN  12.50  \n",
              "1   88.7 bhp    5.0  8.61 Lakh   4.50  \n",
              "2  88.76 bhp    7.0        NaN   6.00  \n",
              "3  140.8 bhp    5.0        NaN  17.74  \n",
              "4   63.1 bhp    5.0        NaN   3.50  "
            ]
          },
          "execution_count": 59,
          "metadata": {},
          "output_type": "execute_result"
        }
      ],
      "source": [
        "df.head()"
      ]
    },
    {
      "cell_type": "code",
      "execution_count": 60,
      "metadata": {
        "colab": {
          "base_uri": "https://localhost:8080/"
        },
        "id": "Mh7-8deUkmjx",
        "outputId": "5e7b0d7b-9e21-400d-c2d5-dcfbe56ec6d1"
      },
      "outputs": [
        {
          "data": {
            "text/plain": [
              "(5847, 14)"
            ]
          },
          "execution_count": 60,
          "metadata": {},
          "output_type": "execute_result"
        }
      ],
      "source": [
        "df.shape"
      ]
    },
    {
      "cell_type": "code",
      "execution_count": 61,
      "metadata": {
        "colab": {
          "base_uri": "https://localhost:8080/"
        },
        "id": "QyUW0WWqk4RR",
        "outputId": "20cec30e-560d-4706-f27e-43227f6e0fa0"
      },
      "outputs": [
        {
          "name": "stdout",
          "output_type": "stream",
          "text": [
            "['Pune' 'Chennai' 'Coimbatore' 'Jaipur' 'Mumbai' 'Kochi' 'Kolkata' 'Delhi'\n",
            " 'Bangalore' 'Hyderabad' 'Ahmedabad']\n",
            "['Manual' 'Automatic']\n",
            "['First' 'Second' 'Fourth & Above' 'Third']\n"
          ]
        }
      ],
      "source": [
        "print(df['Location'].unique())\n",
        "print(df['Transmission'].unique())\n",
        "print(df['Owner_Type'].unique())"
      ]
    },
    {
      "cell_type": "code",
      "execution_count": 62,
      "metadata": {
        "colab": {
          "base_uri": "https://localhost:8080/"
        },
        "id": "5R4VP5ySlFCI",
        "outputId": "8a551e3e-c820-459d-a621-65b393de4ac5"
      },
      "outputs": [
        {
          "name": "stdout",
          "output_type": "stream",
          "text": [
            "[ 5.  7.  8.  4.  6.  2. nan 10.  9.]\n"
          ]
        }
      ],
      "source": [
        "print(df['Seats'].unique())"
      ]
    },
    {
      "cell_type": "code",
      "execution_count": 63,
      "metadata": {
        "colab": {
          "base_uri": "https://localhost:8080/"
        },
        "id": "lyE9BSE_lSHo",
        "outputId": "8c2d39ce-8c60-400d-ad68-a4e62c22f068"
      },
      "outputs": [
        {
          "data": {
            "text/plain": [
              "Unnamed: 0              0\n",
              "Name                    0\n",
              "Location                0\n",
              "Year                    0\n",
              "Kilometers_Driven       0\n",
              "Fuel_Type               0\n",
              "Transmission            0\n",
              "Owner_Type              0\n",
              "Mileage                 2\n",
              "Engine                 36\n",
              "Power                  36\n",
              "Seats                  38\n",
              "New_Price            5032\n",
              "Price                   0\n",
              "dtype: int64"
            ]
          },
          "execution_count": 63,
          "metadata": {},
          "output_type": "execute_result"
        }
      ],
      "source": [
        "df.isnull().sum()"
      ]
    },
    {
      "cell_type": "code",
      "execution_count": 64,
      "metadata": {
        "id": "woezuijolVJQ"
      },
      "outputs": [],
      "source": [
        "df.drop(['New_Price'],axis=1,inplace=True)"
      ]
    },
    {
      "cell_type": "code",
      "execution_count": 65,
      "metadata": {
        "id": "NNVIlMMRs5v8"
      },
      "outputs": [],
      "source": [
        "df['Mileage']=df['Mileage'].str.split().str.get(0).str.replace(',','')"
      ]
    },
    {
      "cell_type": "code",
      "execution_count": 66,
      "metadata": {
        "id": "7Ej8PUoFtUvD"
      },
      "outputs": [],
      "source": [
        "df['Engine']=df['Engine'].str.split().str.get(0).str.replace(',','')"
      ]
    },
    {
      "cell_type": "code",
      "execution_count": 67,
      "metadata": {
        "id": "2f6rGtMhtwe7"
      },
      "outputs": [],
      "source": [
        "df['Power']=df['Power'].str.split().str.get(0).str.replace(',','')"
      ]
    },
    {
      "cell_type": "code",
      "execution_count": 68,
      "metadata": {
        "id": "Dzd6J28FuMXr"
      },
      "outputs": [],
      "source": [
        "df['Name']=df['Name'].str.split().str.slice(start=0,stop=3).str.join(' ')"
      ]
    },
    {
      "cell_type": "code",
      "execution_count": 69,
      "metadata": {
        "colab": {
          "base_uri": "https://localhost:8080/",
          "height": 206
        },
        "id": "ryWlyLXWlmyB",
        "outputId": "be39d977-9dfc-4ee6-9906-4720134a5b35"
      },
      "outputs": [
        {
          "data": {
            "text/html": [
              "<div>\n",
              "<style scoped>\n",
              "    .dataframe tbody tr th:only-of-type {\n",
              "        vertical-align: middle;\n",
              "    }\n",
              "\n",
              "    .dataframe tbody tr th {\n",
              "        vertical-align: top;\n",
              "    }\n",
              "\n",
              "    .dataframe thead th {\n",
              "        text-align: right;\n",
              "    }\n",
              "</style>\n",
              "<table border=\"1\" class=\"dataframe\">\n",
              "  <thead>\n",
              "    <tr style=\"text-align: right;\">\n",
              "      <th></th>\n",
              "      <th>Unnamed: 0</th>\n",
              "      <th>Name</th>\n",
              "      <th>Location</th>\n",
              "      <th>Year</th>\n",
              "      <th>Kilometers_Driven</th>\n",
              "      <th>Fuel_Type</th>\n",
              "      <th>Transmission</th>\n",
              "      <th>Owner_Type</th>\n",
              "      <th>Mileage</th>\n",
              "      <th>Engine</th>\n",
              "      <th>Power</th>\n",
              "      <th>Seats</th>\n",
              "      <th>Price</th>\n",
              "    </tr>\n",
              "  </thead>\n",
              "  <tbody>\n",
              "    <tr>\n",
              "      <th>0</th>\n",
              "      <td>1</td>\n",
              "      <td>Hyundai Creta 1.6</td>\n",
              "      <td>Pune</td>\n",
              "      <td>2015</td>\n",
              "      <td>41000</td>\n",
              "      <td>Diesel</td>\n",
              "      <td>Manual</td>\n",
              "      <td>First</td>\n",
              "      <td>19.67</td>\n",
              "      <td>1582</td>\n",
              "      <td>126.2</td>\n",
              "      <td>5.0</td>\n",
              "      <td>12.50</td>\n",
              "    </tr>\n",
              "    <tr>\n",
              "      <th>1</th>\n",
              "      <td>2</td>\n",
              "      <td>Honda Jazz V</td>\n",
              "      <td>Chennai</td>\n",
              "      <td>2011</td>\n",
              "      <td>46000</td>\n",
              "      <td>Petrol</td>\n",
              "      <td>Manual</td>\n",
              "      <td>First</td>\n",
              "      <td>13</td>\n",
              "      <td>1199</td>\n",
              "      <td>88.7</td>\n",
              "      <td>5.0</td>\n",
              "      <td>4.50</td>\n",
              "    </tr>\n",
              "    <tr>\n",
              "      <th>2</th>\n",
              "      <td>3</td>\n",
              "      <td>Maruti Ertiga VDI</td>\n",
              "      <td>Chennai</td>\n",
              "      <td>2012</td>\n",
              "      <td>87000</td>\n",
              "      <td>Diesel</td>\n",
              "      <td>Manual</td>\n",
              "      <td>First</td>\n",
              "      <td>20.77</td>\n",
              "      <td>1248</td>\n",
              "      <td>88.76</td>\n",
              "      <td>7.0</td>\n",
              "      <td>6.00</td>\n",
              "    </tr>\n",
              "    <tr>\n",
              "      <th>3</th>\n",
              "      <td>4</td>\n",
              "      <td>Audi A4 New</td>\n",
              "      <td>Coimbatore</td>\n",
              "      <td>2013</td>\n",
              "      <td>40670</td>\n",
              "      <td>Diesel</td>\n",
              "      <td>Automatic</td>\n",
              "      <td>Second</td>\n",
              "      <td>15.2</td>\n",
              "      <td>1968</td>\n",
              "      <td>140.8</td>\n",
              "      <td>5.0</td>\n",
              "      <td>17.74</td>\n",
              "    </tr>\n",
              "    <tr>\n",
              "      <th>4</th>\n",
              "      <td>6</td>\n",
              "      <td>Nissan Micra Diesel</td>\n",
              "      <td>Jaipur</td>\n",
              "      <td>2013</td>\n",
              "      <td>86999</td>\n",
              "      <td>Diesel</td>\n",
              "      <td>Manual</td>\n",
              "      <td>First</td>\n",
              "      <td>23.08</td>\n",
              "      <td>1461</td>\n",
              "      <td>63.1</td>\n",
              "      <td>5.0</td>\n",
              "      <td>3.50</td>\n",
              "    </tr>\n",
              "  </tbody>\n",
              "</table>\n",
              "</div>"
            ],
            "text/plain": [
              "   Unnamed: 0                 Name    Location  Year  Kilometers_Driven  \\\n",
              "0           1    Hyundai Creta 1.6        Pune  2015              41000   \n",
              "1           2         Honda Jazz V     Chennai  2011              46000   \n",
              "2           3    Maruti Ertiga VDI     Chennai  2012              87000   \n",
              "3           4          Audi A4 New  Coimbatore  2013              40670   \n",
              "4           6  Nissan Micra Diesel      Jaipur  2013              86999   \n",
              "\n",
              "  Fuel_Type Transmission Owner_Type Mileage Engine  Power  Seats  Price  \n",
              "0    Diesel       Manual      First   19.67   1582  126.2    5.0  12.50  \n",
              "1    Petrol       Manual      First      13   1199   88.7    5.0   4.50  \n",
              "2    Diesel       Manual      First   20.77   1248  88.76    7.0   6.00  \n",
              "3    Diesel    Automatic     Second    15.2   1968  140.8    5.0  17.74  \n",
              "4    Diesel       Manual      First   23.08   1461   63.1    5.0   3.50  "
            ]
          },
          "execution_count": 69,
          "metadata": {},
          "output_type": "execute_result"
        }
      ],
      "source": [
        "df.head()"
      ]
    },
    {
      "cell_type": "code",
      "execution_count": 70,
      "metadata": {
        "colab": {
          "base_uri": "https://localhost:8080/"
        },
        "id": "fcLVpd5hl1fQ",
        "outputId": "92ccffa7-bf2f-44e4-d7dd-664dab2cf3c9"
      },
      "outputs": [
        {
          "name": "stdout",
          "output_type": "stream",
          "text": [
            "['Diesel' 'Petrol' 'Electric']\n"
          ]
        }
      ],
      "source": [
        "print(df['Fuel_Type'].unique())"
      ]
    },
    {
      "cell_type": "code",
      "execution_count": 71,
      "metadata": {
        "colab": {
          "base_uri": "https://localhost:8080/"
        },
        "id": "yCr9WjDpmAI_",
        "outputId": "550f8bad-67a4-4ae0-f830-5049a5d718b6"
      },
      "outputs": [
        {
          "data": {
            "text/plain": [
              "Unnamed: 0            0\n",
              "Name                  0\n",
              "Location              0\n",
              "Year                  0\n",
              "Kilometers_Driven     0\n",
              "Fuel_Type             0\n",
              "Transmission          0\n",
              "Owner_Type            0\n",
              "Mileage               2\n",
              "Engine               36\n",
              "Power                36\n",
              "Seats                38\n",
              "Price                 0\n",
              "dtype: int64"
            ]
          },
          "execution_count": 71,
          "metadata": {},
          "output_type": "execute_result"
        }
      ],
      "source": [
        "df.isnull().sum()"
      ]
    },
    {
      "cell_type": "code",
      "execution_count": 72,
      "metadata": {
        "id": "PZi9DYyVmUmX"
      },
      "outputs": [],
      "source": [
        "df.dropna(inplace=True)"
      ]
    },
    {
      "cell_type": "code",
      "execution_count": 73,
      "metadata": {
        "colab": {
          "base_uri": "https://localhost:8080/"
        },
        "id": "Omqp691GmWfQ",
        "outputId": "e7d7628c-becd-4b4b-bd5c-c0f1343b69fc"
      },
      "outputs": [
        {
          "data": {
            "text/plain": [
              "Unnamed: 0           0\n",
              "Name                 0\n",
              "Location             0\n",
              "Year                 0\n",
              "Kilometers_Driven    0\n",
              "Fuel_Type            0\n",
              "Transmission         0\n",
              "Owner_Type           0\n",
              "Mileage              0\n",
              "Engine               0\n",
              "Power                0\n",
              "Seats                0\n",
              "Price                0\n",
              "dtype: int64"
            ]
          },
          "execution_count": 73,
          "metadata": {},
          "output_type": "execute_result"
        }
      ],
      "source": [
        "df.isnull().sum()"
      ]
    },
    {
      "cell_type": "code",
      "execution_count": 74,
      "metadata": {
        "colab": {
          "base_uri": "https://localhost:8080/"
        },
        "id": "nBnf1LZlug8C",
        "outputId": "d8d6a820-088d-4b14-a1f8-a7cd3dfb99bb"
      },
      "outputs": [
        {
          "name": "stdout",
          "output_type": "stream",
          "text": [
            "<class 'pandas.core.frame.DataFrame'>\n",
            "Index: 5807 entries, 0 to 5846\n",
            "Data columns (total 13 columns):\n",
            " #   Column             Non-Null Count  Dtype  \n",
            "---  ------             --------------  -----  \n",
            " 0   Unnamed: 0         5807 non-null   int64  \n",
            " 1   Name               5807 non-null   object \n",
            " 2   Location           5807 non-null   object \n",
            " 3   Year               5807 non-null   int64  \n",
            " 4   Kilometers_Driven  5807 non-null   int64  \n",
            " 5   Fuel_Type          5807 non-null   object \n",
            " 6   Transmission       5807 non-null   object \n",
            " 7   Owner_Type         5807 non-null   object \n",
            " 8   Mileage            5807 non-null   object \n",
            " 9   Engine             5807 non-null   object \n",
            " 10  Power              5807 non-null   object \n",
            " 11  Seats              5807 non-null   float64\n",
            " 12  Price              5807 non-null   float64\n",
            "dtypes: float64(2), int64(3), object(8)\n",
            "memory usage: 635.1+ KB\n"
          ]
        }
      ],
      "source": [
        "df.info()"
      ]
    },
    {
      "cell_type": "code",
      "execution_count": 75,
      "metadata": {
        "colab": {
          "base_uri": "https://localhost:8080/",
          "height": 394
        },
        "id": "YhM4rCaiunLC",
        "outputId": "039af646-f0d3-422b-c751-cc8c4c761fb0"
      },
      "outputs": [
        {
          "data": {
            "text/html": [
              "<div>\n",
              "<style scoped>\n",
              "    .dataframe tbody tr th:only-of-type {\n",
              "        vertical-align: middle;\n",
              "    }\n",
              "\n",
              "    .dataframe tbody tr th {\n",
              "        vertical-align: top;\n",
              "    }\n",
              "\n",
              "    .dataframe thead th {\n",
              "        text-align: right;\n",
              "    }\n",
              "</style>\n",
              "<table border=\"1\" class=\"dataframe\">\n",
              "  <thead>\n",
              "    <tr style=\"text-align: right;\">\n",
              "      <th></th>\n",
              "      <th>Unnamed: 0</th>\n",
              "      <th>Name</th>\n",
              "      <th>Location</th>\n",
              "      <th>Year</th>\n",
              "      <th>Kilometers_Driven</th>\n",
              "      <th>Fuel_Type</th>\n",
              "      <th>Transmission</th>\n",
              "      <th>Owner_Type</th>\n",
              "      <th>Mileage</th>\n",
              "      <th>Engine</th>\n",
              "      <th>Power</th>\n",
              "      <th>Seats</th>\n",
              "      <th>Price</th>\n",
              "    </tr>\n",
              "  </thead>\n",
              "  <tbody>\n",
              "    <tr>\n",
              "      <th>count</th>\n",
              "      <td>5807.000000</td>\n",
              "      <td>5807</td>\n",
              "      <td>5807</td>\n",
              "      <td>5807.000000</td>\n",
              "      <td>5.807000e+03</td>\n",
              "      <td>5807</td>\n",
              "      <td>5807</td>\n",
              "      <td>5807</td>\n",
              "      <td>5807</td>\n",
              "      <td>5807</td>\n",
              "      <td>5807</td>\n",
              "      <td>5807.000000</td>\n",
              "      <td>5807.000000</td>\n",
              "    </tr>\n",
              "    <tr>\n",
              "      <th>unique</th>\n",
              "      <td>NaN</td>\n",
              "      <td>655</td>\n",
              "      <td>11</td>\n",
              "      <td>NaN</td>\n",
              "      <td>NaN</td>\n",
              "      <td>2</td>\n",
              "      <td>2</td>\n",
              "      <td>4</td>\n",
              "      <td>419</td>\n",
              "      <td>139</td>\n",
              "      <td>360</td>\n",
              "      <td>NaN</td>\n",
              "      <td>NaN</td>\n",
              "    </tr>\n",
              "    <tr>\n",
              "      <th>top</th>\n",
              "      <td>NaN</td>\n",
              "      <td>Hyundai Grand i10</td>\n",
              "      <td>Mumbai</td>\n",
              "      <td>NaN</td>\n",
              "      <td>NaN</td>\n",
              "      <td>Diesel</td>\n",
              "      <td>Manual</td>\n",
              "      <td>First</td>\n",
              "      <td>18.9</td>\n",
              "      <td>1197</td>\n",
              "      <td>74</td>\n",
              "      <td>NaN</td>\n",
              "      <td>NaN</td>\n",
              "    </tr>\n",
              "    <tr>\n",
              "      <th>freq</th>\n",
              "      <td>NaN</td>\n",
              "      <td>152</td>\n",
              "      <td>757</td>\n",
              "      <td>NaN</td>\n",
              "      <td>NaN</td>\n",
              "      <td>3152</td>\n",
              "      <td>4105</td>\n",
              "      <td>4786</td>\n",
              "      <td>172</td>\n",
              "      <td>602</td>\n",
              "      <td>235</td>\n",
              "      <td>NaN</td>\n",
              "      <td>NaN</td>\n",
              "    </tr>\n",
              "    <tr>\n",
              "      <th>mean</th>\n",
              "      <td>3013.686585</td>\n",
              "      <td>NaN</td>\n",
              "      <td>NaN</td>\n",
              "      <td>2013.475805</td>\n",
              "      <td>5.834902e+04</td>\n",
              "      <td>NaN</td>\n",
              "      <td>NaN</td>\n",
              "      <td>NaN</td>\n",
              "      <td>NaN</td>\n",
              "      <td>NaN</td>\n",
              "      <td>NaN</td>\n",
              "      <td>5.286551</td>\n",
              "      <td>9.673429</td>\n",
              "    </tr>\n",
              "    <tr>\n",
              "      <th>std</th>\n",
              "      <td>1737.960240</td>\n",
              "      <td>NaN</td>\n",
              "      <td>NaN</td>\n",
              "      <td>3.170718</td>\n",
              "      <td>9.265556e+04</td>\n",
              "      <td>NaN</td>\n",
              "      <td>NaN</td>\n",
              "      <td>NaN</td>\n",
              "      <td>NaN</td>\n",
              "      <td>NaN</td>\n",
              "      <td>NaN</td>\n",
              "      <td>0.806790</td>\n",
              "      <td>11.292012</td>\n",
              "    </tr>\n",
              "    <tr>\n",
              "      <th>min</th>\n",
              "      <td>1.000000</td>\n",
              "      <td>NaN</td>\n",
              "      <td>NaN</td>\n",
              "      <td>1998.000000</td>\n",
              "      <td>1.710000e+02</td>\n",
              "      <td>NaN</td>\n",
              "      <td>NaN</td>\n",
              "      <td>NaN</td>\n",
              "      <td>NaN</td>\n",
              "      <td>NaN</td>\n",
              "      <td>NaN</td>\n",
              "      <td>2.000000</td>\n",
              "      <td>0.440000</td>\n",
              "    </tr>\n",
              "    <tr>\n",
              "      <th>25%</th>\n",
              "      <td>1508.500000</td>\n",
              "      <td>NaN</td>\n",
              "      <td>NaN</td>\n",
              "      <td>2012.000000</td>\n",
              "      <td>3.328800e+04</td>\n",
              "      <td>NaN</td>\n",
              "      <td>NaN</td>\n",
              "      <td>NaN</td>\n",
              "      <td>NaN</td>\n",
              "      <td>NaN</td>\n",
              "      <td>NaN</td>\n",
              "      <td>5.000000</td>\n",
              "      <td>3.590000</td>\n",
              "    </tr>\n",
              "    <tr>\n",
              "      <th>50%</th>\n",
              "      <td>3017.000000</td>\n",
              "      <td>NaN</td>\n",
              "      <td>NaN</td>\n",
              "      <td>2014.000000</td>\n",
              "      <td>5.240000e+04</td>\n",
              "      <td>NaN</td>\n",
              "      <td>NaN</td>\n",
              "      <td>NaN</td>\n",
              "      <td>NaN</td>\n",
              "      <td>NaN</td>\n",
              "      <td>NaN</td>\n",
              "      <td>5.000000</td>\n",
              "      <td>5.750000</td>\n",
              "    </tr>\n",
              "    <tr>\n",
              "      <th>75%</th>\n",
              "      <td>4518.500000</td>\n",
              "      <td>NaN</td>\n",
              "      <td>NaN</td>\n",
              "      <td>2016.000000</td>\n",
              "      <td>7.245750e+04</td>\n",
              "      <td>NaN</td>\n",
              "      <td>NaN</td>\n",
              "      <td>NaN</td>\n",
              "      <td>NaN</td>\n",
              "      <td>NaN</td>\n",
              "      <td>NaN</td>\n",
              "      <td>5.000000</td>\n",
              "      <td>10.250000</td>\n",
              "    </tr>\n",
              "    <tr>\n",
              "      <th>max</th>\n",
              "      <td>6018.000000</td>\n",
              "      <td>NaN</td>\n",
              "      <td>NaN</td>\n",
              "      <td>2019.000000</td>\n",
              "      <td>6.500000e+06</td>\n",
              "      <td>NaN</td>\n",
              "      <td>NaN</td>\n",
              "      <td>NaN</td>\n",
              "      <td>NaN</td>\n",
              "      <td>NaN</td>\n",
              "      <td>NaN</td>\n",
              "      <td>10.000000</td>\n",
              "      <td>160.000000</td>\n",
              "    </tr>\n",
              "  </tbody>\n",
              "</table>\n",
              "</div>"
            ],
            "text/plain": [
              "         Unnamed: 0               Name Location         Year  \\\n",
              "count   5807.000000               5807     5807  5807.000000   \n",
              "unique          NaN                655       11          NaN   \n",
              "top             NaN  Hyundai Grand i10   Mumbai          NaN   \n",
              "freq            NaN                152      757          NaN   \n",
              "mean    3013.686585                NaN      NaN  2013.475805   \n",
              "std     1737.960240                NaN      NaN     3.170718   \n",
              "min        1.000000                NaN      NaN  1998.000000   \n",
              "25%     1508.500000                NaN      NaN  2012.000000   \n",
              "50%     3017.000000                NaN      NaN  2014.000000   \n",
              "75%     4518.500000                NaN      NaN  2016.000000   \n",
              "max     6018.000000                NaN      NaN  2019.000000   \n",
              "\n",
              "        Kilometers_Driven Fuel_Type Transmission Owner_Type Mileage Engine  \\\n",
              "count        5.807000e+03      5807         5807       5807    5807   5807   \n",
              "unique                NaN         2            2          4     419    139   \n",
              "top                   NaN    Diesel       Manual      First    18.9   1197   \n",
              "freq                  NaN      3152         4105       4786     172    602   \n",
              "mean         5.834902e+04       NaN          NaN        NaN     NaN    NaN   \n",
              "std          9.265556e+04       NaN          NaN        NaN     NaN    NaN   \n",
              "min          1.710000e+02       NaN          NaN        NaN     NaN    NaN   \n",
              "25%          3.328800e+04       NaN          NaN        NaN     NaN    NaN   \n",
              "50%          5.240000e+04       NaN          NaN        NaN     NaN    NaN   \n",
              "75%          7.245750e+04       NaN          NaN        NaN     NaN    NaN   \n",
              "max          6.500000e+06       NaN          NaN        NaN     NaN    NaN   \n",
              "\n",
              "       Power        Seats        Price  \n",
              "count   5807  5807.000000  5807.000000  \n",
              "unique   360          NaN          NaN  \n",
              "top       74          NaN          NaN  \n",
              "freq     235          NaN          NaN  \n",
              "mean     NaN     5.286551     9.673429  \n",
              "std      NaN     0.806790    11.292012  \n",
              "min      NaN     2.000000     0.440000  \n",
              "25%      NaN     5.000000     3.590000  \n",
              "50%      NaN     5.000000     5.750000  \n",
              "75%      NaN     5.000000    10.250000  \n",
              "max      NaN    10.000000   160.000000  "
            ]
          },
          "execution_count": 75,
          "metadata": {},
          "output_type": "execute_result"
        }
      ],
      "source": [
        "df.describe(include='all')"
      ]
    },
    {
      "cell_type": "code",
      "execution_count": 76,
      "metadata": {
        "id": "IhBwRrrwxg7x"
      },
      "outputs": [],
      "source": [
        "def extract_first_word(name):\n",
        "    return name.split()[0]\n",
        "df['company'] = df['Name'].apply(extract_first_word)"
      ]
    },
    {
      "cell_type": "code",
      "execution_count": 77,
      "metadata": {
        "colab": {
          "base_uri": "https://localhost:8080/",
          "height": 206
        },
        "id": "kzOYaUs7xnrv",
        "outputId": "f15e6c4d-366b-4cb1-8c6f-91c9efe8d43c"
      },
      "outputs": [
        {
          "data": {
            "text/html": [
              "<div>\n",
              "<style scoped>\n",
              "    .dataframe tbody tr th:only-of-type {\n",
              "        vertical-align: middle;\n",
              "    }\n",
              "\n",
              "    .dataframe tbody tr th {\n",
              "        vertical-align: top;\n",
              "    }\n",
              "\n",
              "    .dataframe thead th {\n",
              "        text-align: right;\n",
              "    }\n",
              "</style>\n",
              "<table border=\"1\" class=\"dataframe\">\n",
              "  <thead>\n",
              "    <tr style=\"text-align: right;\">\n",
              "      <th></th>\n",
              "      <th>Unnamed: 0</th>\n",
              "      <th>Name</th>\n",
              "      <th>Location</th>\n",
              "      <th>Year</th>\n",
              "      <th>Kilometers_Driven</th>\n",
              "      <th>Fuel_Type</th>\n",
              "      <th>Transmission</th>\n",
              "      <th>Owner_Type</th>\n",
              "      <th>Mileage</th>\n",
              "      <th>Engine</th>\n",
              "      <th>Power</th>\n",
              "      <th>Seats</th>\n",
              "      <th>Price</th>\n",
              "      <th>company</th>\n",
              "    </tr>\n",
              "  </thead>\n",
              "  <tbody>\n",
              "    <tr>\n",
              "      <th>0</th>\n",
              "      <td>1</td>\n",
              "      <td>Hyundai Creta 1.6</td>\n",
              "      <td>Pune</td>\n",
              "      <td>2015</td>\n",
              "      <td>41000</td>\n",
              "      <td>Diesel</td>\n",
              "      <td>Manual</td>\n",
              "      <td>First</td>\n",
              "      <td>19.67</td>\n",
              "      <td>1582</td>\n",
              "      <td>126.2</td>\n",
              "      <td>5.0</td>\n",
              "      <td>12.50</td>\n",
              "      <td>Hyundai</td>\n",
              "    </tr>\n",
              "    <tr>\n",
              "      <th>1</th>\n",
              "      <td>2</td>\n",
              "      <td>Honda Jazz V</td>\n",
              "      <td>Chennai</td>\n",
              "      <td>2011</td>\n",
              "      <td>46000</td>\n",
              "      <td>Petrol</td>\n",
              "      <td>Manual</td>\n",
              "      <td>First</td>\n",
              "      <td>13</td>\n",
              "      <td>1199</td>\n",
              "      <td>88.7</td>\n",
              "      <td>5.0</td>\n",
              "      <td>4.50</td>\n",
              "      <td>Honda</td>\n",
              "    </tr>\n",
              "    <tr>\n",
              "      <th>2</th>\n",
              "      <td>3</td>\n",
              "      <td>Maruti Ertiga VDI</td>\n",
              "      <td>Chennai</td>\n",
              "      <td>2012</td>\n",
              "      <td>87000</td>\n",
              "      <td>Diesel</td>\n",
              "      <td>Manual</td>\n",
              "      <td>First</td>\n",
              "      <td>20.77</td>\n",
              "      <td>1248</td>\n",
              "      <td>88.76</td>\n",
              "      <td>7.0</td>\n",
              "      <td>6.00</td>\n",
              "      <td>Maruti</td>\n",
              "    </tr>\n",
              "    <tr>\n",
              "      <th>3</th>\n",
              "      <td>4</td>\n",
              "      <td>Audi A4 New</td>\n",
              "      <td>Coimbatore</td>\n",
              "      <td>2013</td>\n",
              "      <td>40670</td>\n",
              "      <td>Diesel</td>\n",
              "      <td>Automatic</td>\n",
              "      <td>Second</td>\n",
              "      <td>15.2</td>\n",
              "      <td>1968</td>\n",
              "      <td>140.8</td>\n",
              "      <td>5.0</td>\n",
              "      <td>17.74</td>\n",
              "      <td>Audi</td>\n",
              "    </tr>\n",
              "    <tr>\n",
              "      <th>4</th>\n",
              "      <td>6</td>\n",
              "      <td>Nissan Micra Diesel</td>\n",
              "      <td>Jaipur</td>\n",
              "      <td>2013</td>\n",
              "      <td>86999</td>\n",
              "      <td>Diesel</td>\n",
              "      <td>Manual</td>\n",
              "      <td>First</td>\n",
              "      <td>23.08</td>\n",
              "      <td>1461</td>\n",
              "      <td>63.1</td>\n",
              "      <td>5.0</td>\n",
              "      <td>3.50</td>\n",
              "      <td>Nissan</td>\n",
              "    </tr>\n",
              "  </tbody>\n",
              "</table>\n",
              "</div>"
            ],
            "text/plain": [
              "   Unnamed: 0                 Name    Location  Year  Kilometers_Driven  \\\n",
              "0           1    Hyundai Creta 1.6        Pune  2015              41000   \n",
              "1           2         Honda Jazz V     Chennai  2011              46000   \n",
              "2           3    Maruti Ertiga VDI     Chennai  2012              87000   \n",
              "3           4          Audi A4 New  Coimbatore  2013              40670   \n",
              "4           6  Nissan Micra Diesel      Jaipur  2013              86999   \n",
              "\n",
              "  Fuel_Type Transmission Owner_Type Mileage Engine  Power  Seats  Price  \\\n",
              "0    Diesel       Manual      First   19.67   1582  126.2    5.0  12.50   \n",
              "1    Petrol       Manual      First      13   1199   88.7    5.0   4.50   \n",
              "2    Diesel       Manual      First   20.77   1248  88.76    7.0   6.00   \n",
              "3    Diesel    Automatic     Second    15.2   1968  140.8    5.0  17.74   \n",
              "4    Diesel       Manual      First   23.08   1461   63.1    5.0   3.50   \n",
              "\n",
              "   company  \n",
              "0  Hyundai  \n",
              "1    Honda  \n",
              "2   Maruti  \n",
              "3     Audi  \n",
              "4   Nissan  "
            ]
          },
          "execution_count": 77,
          "metadata": {},
          "output_type": "execute_result"
        }
      ],
      "source": [
        "df.head()"
      ]
    },
    {
      "cell_type": "code",
      "execution_count": 78,
      "metadata": {},
      "outputs": [],
      "source": [
        "df.to_csv('Cleaned_Car_data.csv')"
      ]
    },
    {
      "cell_type": "code",
      "execution_count": 79,
      "metadata": {
        "colab": {
          "base_uri": "https://localhost:8080/",
          "height": 719
        },
        "id": "-G3YqY52wUbJ",
        "outputId": "b8e5036e-1415-47c8-db8f-1de7d3b1c84a"
      },
      "outputs": [
        {
          "name": "stderr",
          "output_type": "stream",
          "text": [
            "C:\\Users\\Sameer Marathe\\AppData\\Local\\Temp\\ipykernel_16024\\2936989930.py:4: UserWarning: set_ticklabels() should only be used with a fixed number of ticks, i.e. after set_ticks() or using a FixedLocator.\n",
            "  ax.set_xticklabels(ax.get_xticklabels(),rotation=40,ha='right')\n"
          ]
        },
        {
          "data": {
            "image/png": "[encoded data removed]",
            "text/plain": [
              "<Figure size 1500x700 with 1 Axes>"
            ]
          },
          "metadata": {},
          "output_type": "display_data"
        }
      ],
      "source": [
        "import seaborn as sns\n",
        "plt.subplots(figsize=(15,7))\n",
        "ax=sns.boxplot(x='company',y='Price',data=df)\n",
        "ax.set_xticklabels(ax.get_xticklabels(),rotation=40,ha='right')\n",
        "plt.show()"
      ]
    },
    {
      "cell_type": "code",
      "execution_count": 80,
      "metadata": {
        "colab": {
          "base_uri": "https://localhost:8080/",
          "height": 1000
        },
        "id": "ilxzuq0Ozdpg",
        "outputId": "3d5b2858-6439-4083-dd85-307978c9ae89"
      },
      "outputs": [
        {
          "name": "stderr",
          "output_type": "stream",
          "text": [
            "c:\\Users\\Sameer Marathe\\AppData\\Local\\Programs\\Python\\Python312\\Lib\\site-packages\\seaborn\\categorical.py:3399: UserWarning: 8.0% of the points cannot be placed; you may want to decrease the size of the markers or use stripplot.\n",
            "  warnings.warn(msg, UserWarning)\n",
            "c:\\Users\\Sameer Marathe\\AppData\\Local\\Programs\\Python\\Python312\\Lib\\site-packages\\seaborn\\categorical.py:3399: UserWarning: 19.0% of the points cannot be placed; you may want to decrease the size of the markers or use stripplot.\n",
            "  warnings.warn(msg, UserWarning)\n",
            "c:\\Users\\Sameer Marathe\\AppData\\Local\\Programs\\Python\\Python312\\Lib\\site-packages\\seaborn\\categorical.py:3399: UserWarning: 30.3% of the points cannot be placed; you may want to decrease the size of the markers or use stripplot.\n",
            "  warnings.warn(msg, UserWarning)\n",
            "c:\\Users\\Sameer Marathe\\AppData\\Local\\Programs\\Python\\Python312\\Lib\\site-packages\\seaborn\\categorical.py:3399: UserWarning: 35.6% of the points cannot be placed; you may want to decrease the size of the markers or use stripplot.\n",
            "  warnings.warn(msg, UserWarning)\n",
            "c:\\Users\\Sameer Marathe\\AppData\\Local\\Programs\\Python\\Python312\\Lib\\site-packages\\seaborn\\categorical.py:3399: UserWarning: 45.6% of the points cannot be placed; you may want to decrease the size of the markers or use stripplot.\n",
            "  warnings.warn(msg, UserWarning)\n",
            "c:\\Users\\Sameer Marathe\\AppData\\Local\\Programs\\Python\\Python312\\Lib\\site-packages\\seaborn\\categorical.py:3399: UserWarning: 39.3% of the points cannot be placed; you may want to decrease the size of the markers or use stripplot.\n",
            "  warnings.warn(msg, UserWarning)\n",
            "c:\\Users\\Sameer Marathe\\AppData\\Local\\Programs\\Python\\Python312\\Lib\\site-packages\\seaborn\\categorical.py:3399: UserWarning: 55.5% of the points cannot be placed; you may want to decrease the size of the markers or use stripplot.\n",
            "  warnings.warn(msg, UserWarning)\n",
            "c:\\Users\\Sameer Marathe\\AppData\\Local\\Programs\\Python\\Python312\\Lib\\site-packages\\seaborn\\categorical.py:3399: UserWarning: 56.4% of the points cannot be placed; you may want to decrease the size of the markers or use stripplot.\n",
            "  warnings.warn(msg, UserWarning)\n",
            "c:\\Users\\Sameer Marathe\\AppData\\Local\\Programs\\Python\\Python312\\Lib\\site-packages\\seaborn\\categorical.py:3399: UserWarning: 59.0% of the points cannot be placed; you may want to decrease the size of the markers or use stripplot.\n",
            "  warnings.warn(msg, UserWarning)\n",
            "c:\\Users\\Sameer Marathe\\AppData\\Local\\Programs\\Python\\Python312\\Lib\\site-packages\\seaborn\\categorical.py:3399: UserWarning: 58.1% of the points cannot be placed; you may want to decrease the size of the markers or use stripplot.\n",
            "  warnings.warn(msg, UserWarning)\n",
            "c:\\Users\\Sameer Marathe\\AppData\\Local\\Programs\\Python\\Python312\\Lib\\site-packages\\seaborn\\categorical.py:3399: UserWarning: 60.1% of the points cannot be placed; you may want to decrease the size of the markers or use stripplot.\n",
            "  warnings.warn(msg, UserWarning)\n",
            "c:\\Users\\Sameer Marathe\\AppData\\Local\\Programs\\Python\\Python312\\Lib\\site-packages\\seaborn\\categorical.py:3399: UserWarning: 56.5% of the points cannot be placed; you may want to decrease the size of the markers or use stripplot.\n",
            "  warnings.warn(msg, UserWarning)\n",
            "c:\\Users\\Sameer Marathe\\AppData\\Local\\Programs\\Python\\Python312\\Lib\\site-packages\\seaborn\\categorical.py:3399: UserWarning: 56.6% of the points cannot be placed; you may want to decrease the size of the markers or use stripplot.\n",
            "  warnings.warn(msg, UserWarning)\n",
            "c:\\Users\\Sameer Marathe\\AppData\\Local\\Programs\\Python\\Python312\\Lib\\site-packages\\seaborn\\categorical.py:3399: UserWarning: 48.2% of the points cannot be placed; you may want to decrease the size of the markers or use stripplot.\n",
            "  warnings.warn(msg, UserWarning)\n",
            "c:\\Users\\Sameer Marathe\\AppData\\Local\\Programs\\Python\\Python312\\Lib\\site-packages\\seaborn\\categorical.py:3399: UserWarning: 29.9% of the points cannot be placed; you may want to decrease the size of the markers or use stripplot.\n",
            "  warnings.warn(msg, UserWarning)\n",
            "C:\\Users\\Sameer Marathe\\AppData\\Local\\Temp\\ipykernel_16024\\4089248250.py:3: UserWarning: set_ticklabels() should only be used with a fixed number of ticks, i.e. after set_ticks() or using a FixedLocator.\n",
            "  ax.set_xticklabels(ax.get_xticklabels(), rotation=40, ha='right')\n",
            "c:\\Users\\Sameer Marathe\\AppData\\Local\\Programs\\Python\\Python312\\Lib\\site-packages\\seaborn\\categorical.py:3399: UserWarning: 8.0% of the points cannot be placed; you may want to decrease the size of the markers or use stripplot.\n",
            "  warnings.warn(msg, UserWarning)\n",
            "c:\\Users\\Sameer Marathe\\AppData\\Local\\Programs\\Python\\Python312\\Lib\\site-packages\\seaborn\\categorical.py:3399: UserWarning: 19.0% of the points cannot be placed; you may want to decrease the size of the markers or use stripplot.\n",
            "  warnings.warn(msg, UserWarning)\n",
            "c:\\Users\\Sameer Marathe\\AppData\\Local\\Programs\\Python\\Python312\\Lib\\site-packages\\seaborn\\categorical.py:3399: UserWarning: 28.8% of the points cannot be placed; you may want to decrease the size of the markers or use stripplot.\n",
            "  warnings.warn(msg, UserWarning)\n",
            "c:\\Users\\Sameer Marathe\\AppData\\Local\\Programs\\Python\\Python312\\Lib\\site-packages\\seaborn\\categorical.py:3399: UserWarning: 34.6% of the points cannot be placed; you may want to decrease the size of the markers or use stripplot.\n",
            "  warnings.warn(msg, UserWarning)\n",
            "c:\\Users\\Sameer Marathe\\AppData\\Local\\Programs\\Python\\Python312\\Lib\\site-packages\\seaborn\\categorical.py:3399: UserWarning: 44.4% of the points cannot be placed; you may want to decrease the size of the markers or use stripplot.\n",
            "  warnings.warn(msg, UserWarning)\n",
            "c:\\Users\\Sameer Marathe\\AppData\\Local\\Programs\\Python\\Python312\\Lib\\site-packages\\seaborn\\categorical.py:3399: UserWarning: 38.2% of the points cannot be placed; you may want to decrease the size of the markers or use stripplot.\n",
            "  warnings.warn(msg, UserWarning)\n",
            "c:\\Users\\Sameer Marathe\\AppData\\Local\\Programs\\Python\\Python312\\Lib\\site-packages\\seaborn\\categorical.py:3399: UserWarning: 54.0% of the points cannot be placed; you may want to decrease the size of the markers or use stripplot.\n",
            "  warnings.warn(msg, UserWarning)\n",
            "c:\\Users\\Sameer Marathe\\AppData\\Local\\Programs\\Python\\Python312\\Lib\\site-packages\\seaborn\\categorical.py:3399: UserWarning: 54.9% of the points cannot be placed; you may want to decrease the size of the markers or use stripplot.\n",
            "  warnings.warn(msg, UserWarning)\n",
            "c:\\Users\\Sameer Marathe\\AppData\\Local\\Programs\\Python\\Python312\\Lib\\site-packages\\seaborn\\categorical.py:3399: UserWarning: 58.3% of the points cannot be placed; you may want to decrease the size of the markers or use stripplot.\n",
            "  warnings.warn(msg, UserWarning)\n",
            "c:\\Users\\Sameer Marathe\\AppData\\Local\\Programs\\Python\\Python312\\Lib\\site-packages\\seaborn\\categorical.py:3399: UserWarning: 57.3% of the points cannot be placed; you may want to decrease the size of the markers or use stripplot.\n",
            "  warnings.warn(msg, UserWarning)\n",
            "c:\\Users\\Sameer Marathe\\AppData\\Local\\Programs\\Python\\Python312\\Lib\\site-packages\\seaborn\\categorical.py:3399: UserWarning: 59.2% of the points cannot be placed; you may want to decrease the size of the markers or use stripplot.\n",
            "  warnings.warn(msg, UserWarning)\n",
            "c:\\Users\\Sameer Marathe\\AppData\\Local\\Programs\\Python\\Python312\\Lib\\site-packages\\seaborn\\categorical.py:3399: UserWarning: 56.0% of the points cannot be placed; you may want to decrease the size of the markers or use stripplot.\n",
            "  warnings.warn(msg, UserWarning)\n",
            "c:\\Users\\Sameer Marathe\\AppData\\Local\\Programs\\Python\\Python312\\Lib\\site-packages\\seaborn\\categorical.py:3399: UserWarning: 55.8% of the points cannot be placed; you may want to decrease the size of the markers or use stripplot.\n",
            "  warnings.warn(msg, UserWarning)\n",
            "c:\\Users\\Sameer Marathe\\AppData\\Local\\Programs\\Python\\Python312\\Lib\\site-packages\\seaborn\\categorical.py:3399: UserWarning: 47.0% of the points cannot be placed; you may want to decrease the size of the markers or use stripplot.\n",
            "  warnings.warn(msg, UserWarning)\n",
            "c:\\Users\\Sameer Marathe\\AppData\\Local\\Programs\\Python\\Python312\\Lib\\site-packages\\seaborn\\categorical.py:3399: UserWarning: 28.9% of the points cannot be placed; you may want to decrease the size of the markers or use stripplot.\n",
            "  warnings.warn(msg, UserWarning)\n"
          ]
        },
        {
          "data": {
            "image/png": "[encoded data removed]",
            "text/plain": [
              "<Figure size 2000x1000 with 1 Axes>"
            ]
          },
          "metadata": {},
          "output_type": "display_data"
        }
      ],
      "source": [
        "plt.subplots(figsize=(20, 10))\n",
        "ax = sns.swarmplot(x='Year', y='Price', data=df, dodge=True, size=3)  # Adjust size and add dodge\n",
        "ax.set_xticklabels(ax.get_xticklabels(), rotation=40, ha='right')\n",
        "plt.show()"
      ]
    },
    {
      "cell_type": "code",
      "execution_count": 81,
      "metadata": {
        "colab": {
          "base_uri": "https://localhost:8080/",
          "height": 725
        },
        "id": "xUmZiHbB0a4O",
        "outputId": "78687a10-7515-4ba1-d117-a7e7256d53a1"
      },
      "outputs": [
        {
          "data": {
            "text/plain": [
              "<seaborn.axisgrid.FacetGrid at 0x20d503dddc0>"
            ]
          },
          "execution_count": 81,
          "metadata": {},
          "output_type": "execute_result"
        },
        {
          "data": {
            "image/png": "[encoded data removed]",
            "text/plain": [
              "<Figure size 1050x700 with 1 Axes>"
            ]
          },
          "metadata": {},
          "output_type": "display_data"
        }
      ],
      "source": [
        "sns.relplot(x='Kilometers_Driven',y='Price',data=df,height=7,aspect=1.5)"
      ]
    },
    {
      "cell_type": "code",
      "execution_count": 82,
      "metadata": {
        "colab": {
          "base_uri": "https://localhost:8080/",
          "height": 637
        },
        "id": "KhT01pjA1w-3",
        "outputId": "44c63420-6268-49d6-a95b-576ec1f09d64"
      },
      "outputs": [
        {
          "data": {
            "text/plain": [
              "<Axes: xlabel='Fuel_Type', ylabel='Price'>"
            ]
          },
          "execution_count": 82,
          "metadata": {},
          "output_type": "execute_result"
        },
        {
          "data": {
            "image/png": "[encoded data removed]",
            "text/plain": [
              "<Figure size 1400x700 with 1 Axes>"
            ]
          },
          "metadata": {},
          "output_type": "display_data"
        }
      ],
      "source": [
        "plt.subplots(figsize=(14,7))\n",
        "sns.boxplot(x='Fuel_Type',y='Price',data=df)"
      ]
    },
    {
      "cell_type": "code",
      "execution_count": 83,
      "metadata": {
        "colab": {
          "base_uri": "https://localhost:8080/",
          "height": 741
        },
        "id": "MH-5v6aY2BD9",
        "outputId": "3a80bff6-d36e-4626-9d40-e340e4a656f0"
      },
      "outputs": [
        {
          "data": {
            "text/plain": [
              "<seaborn.axisgrid.FacetGrid at 0x20d50958b90>"
            ]
          },
          "execution_count": 83,
          "metadata": {},
          "output_type": "execute_result"
        },
        {
          "data": {
            "image/png": "[encoded data removed]",
            "text/plain": [
              "<Figure size 1517.38x700 with 1 Axes>"
            ]
          },
          "metadata": {},
          "output_type": "display_data"
        }
      ],
      "source": [
        "ax=sns.relplot(x='company',y='Price',data=df,hue='Fuel_Type',size='Year',height=7,aspect=2)\n",
        "ax.set_xticklabels(rotation=40,ha='right')"
      ]
    },
    {
      "cell_type": "markdown",
      "metadata": {
        "id": "LZYwOfCW2KJV"
      },
      "source": [
        "Extracting Training Data"
      ]
    },
    {
      "cell_type": "code",
      "execution_count": 84,
      "metadata": {
        "id": "vLCfKDfs2N6F"
      },
      "outputs": [],
      "source": [
        "X=df[['Name','company','Year','Kilometers_Driven','Fuel_Type']]\n",
        "y=df['Price']"
      ]
    },
    {
      "cell_type": "code",
      "execution_count": 85,
      "metadata": {
        "colab": {
          "base_uri": "https://localhost:8080/",
          "height": 423
        },
        "id": "JkIh3RXN2Zf9",
        "outputId": "05f63a6c-698f-4f69-d49c-9abae89e0241"
      },
      "outputs": [
        {
          "data": {
            "text/html": [
              "<div>\n",
              "<style scoped>\n",
              "    .dataframe tbody tr th:only-of-type {\n",
              "        vertical-align: middle;\n",
              "    }\n",
              "\n",
              "    .dataframe tbody tr th {\n",
              "        vertical-align: top;\n",
              "    }\n",
              "\n",
              "    .dataframe thead th {\n",
              "        text-align: right;\n",
              "    }\n",
              "</style>\n",
              "<table border=\"1\" class=\"dataframe\">\n",
              "  <thead>\n",
              "    <tr style=\"text-align: right;\">\n",
              "      <th></th>\n",
              "      <th>Name</th>\n",
              "      <th>company</th>\n",
              "      <th>Year</th>\n",
              "      <th>Kilometers_Driven</th>\n",
              "      <th>Fuel_Type</th>\n",
              "    </tr>\n",
              "  </thead>\n",
              "  <tbody>\n",
              "    <tr>\n",
              "      <th>0</th>\n",
              "      <td>Hyundai Creta 1.6</td>\n",
              "      <td>Hyundai</td>\n",
              "      <td>2015</td>\n",
              "      <td>41000</td>\n",
              "      <td>Diesel</td>\n",
              "    </tr>\n",
              "    <tr>\n",
              "      <th>1</th>\n",
              "      <td>Honda Jazz V</td>\n",
              "      <td>Honda</td>\n",
              "      <td>2011</td>\n",
              "      <td>46000</td>\n",
              "      <td>Petrol</td>\n",
              "    </tr>\n",
              "    <tr>\n",
              "      <th>2</th>\n",
              "      <td>Maruti Ertiga VDI</td>\n",
              "      <td>Maruti</td>\n",
              "      <td>2012</td>\n",
              "      <td>87000</td>\n",
              "      <td>Diesel</td>\n",
              "    </tr>\n",
              "    <tr>\n",
              "      <th>3</th>\n",
              "      <td>Audi A4 New</td>\n",
              "      <td>Audi</td>\n",
              "      <td>2013</td>\n",
              "      <td>40670</td>\n",
              "      <td>Diesel</td>\n",
              "    </tr>\n",
              "    <tr>\n",
              "      <th>4</th>\n",
              "      <td>Nissan Micra Diesel</td>\n",
              "      <td>Nissan</td>\n",
              "      <td>2013</td>\n",
              "      <td>86999</td>\n",
              "      <td>Diesel</td>\n",
              "    </tr>\n",
              "    <tr>\n",
              "      <th>...</th>\n",
              "      <td>...</td>\n",
              "      <td>...</td>\n",
              "      <td>...</td>\n",
              "      <td>...</td>\n",
              "      <td>...</td>\n",
              "    </tr>\n",
              "    <tr>\n",
              "      <th>5842</th>\n",
              "      <td>Maruti Swift VDI</td>\n",
              "      <td>Maruti</td>\n",
              "      <td>2014</td>\n",
              "      <td>27365</td>\n",
              "      <td>Diesel</td>\n",
              "    </tr>\n",
              "    <tr>\n",
              "      <th>5843</th>\n",
              "      <td>Hyundai Xcent 1.1</td>\n",
              "      <td>Hyundai</td>\n",
              "      <td>2015</td>\n",
              "      <td>100000</td>\n",
              "      <td>Diesel</td>\n",
              "    </tr>\n",
              "    <tr>\n",
              "      <th>5844</th>\n",
              "      <td>Mahindra Xylo D4</td>\n",
              "      <td>Mahindra</td>\n",
              "      <td>2012</td>\n",
              "      <td>55000</td>\n",
              "      <td>Diesel</td>\n",
              "    </tr>\n",
              "    <tr>\n",
              "      <th>5845</th>\n",
              "      <td>Maruti Wagon R</td>\n",
              "      <td>Maruti</td>\n",
              "      <td>2013</td>\n",
              "      <td>46000</td>\n",
              "      <td>Petrol</td>\n",
              "    </tr>\n",
              "    <tr>\n",
              "      <th>5846</th>\n",
              "      <td>Chevrolet Beat Diesel</td>\n",
              "      <td>Chevrolet</td>\n",
              "      <td>2011</td>\n",
              "      <td>47000</td>\n",
              "      <td>Diesel</td>\n",
              "    </tr>\n",
              "  </tbody>\n",
              "</table>\n",
              "<p>5807 rows × 5 columns</p>\n",
              "</div>"
            ],
            "text/plain": [
              "                       Name    company  Year  Kilometers_Driven Fuel_Type\n",
              "0         Hyundai Creta 1.6    Hyundai  2015              41000    Diesel\n",
              "1              Honda Jazz V      Honda  2011              46000    Petrol\n",
              "2         Maruti Ertiga VDI     Maruti  2012              87000    Diesel\n",
              "3               Audi A4 New       Audi  2013              40670    Diesel\n",
              "4       Nissan Micra Diesel     Nissan  2013              86999    Diesel\n",
              "...                     ...        ...   ...                ...       ...\n",
              "5842       Maruti Swift VDI     Maruti  2014              27365    Diesel\n",
              "5843      Hyundai Xcent 1.1    Hyundai  2015             100000    Diesel\n",
              "5844       Mahindra Xylo D4   Mahindra  2012              55000    Diesel\n",
              "5845         Maruti Wagon R     Maruti  2013              46000    Petrol\n",
              "5846  Chevrolet Beat Diesel  Chevrolet  2011              47000    Diesel\n",
              "\n",
              "[5807 rows x 5 columns]"
            ]
          },
          "execution_count": 85,
          "metadata": {},
          "output_type": "execute_result"
        }
      ],
      "source": [
        "X"
      ]
    },
    {
      "cell_type": "code",
      "execution_count": 86,
      "metadata": {
        "colab": {
          "base_uri": "https://localhost:8080/"
        },
        "id": "kR025bzd2a62",
        "outputId": "0521e4af-5c29-4047-b7a7-23502404e9cb"
      },
      "outputs": [
        {
          "data": {
            "text/plain": [
              "0       12.50\n",
              "1        4.50\n",
              "2        6.00\n",
              "3       17.74\n",
              "4        3.50\n",
              "        ...  \n",
              "5842     4.75\n",
              "5843     4.00\n",
              "5844     2.90\n",
              "5845     2.65\n",
              "5846     2.50\n",
              "Name: Price, Length: 5807, dtype: float64"
            ]
          },
          "execution_count": 86,
          "metadata": {},
          "output_type": "execute_result"
        }
      ],
      "source": [
        "y"
      ]
    },
    {
      "cell_type": "code",
      "execution_count": 87,
      "metadata": {
        "id": "yqyFzHGx2fjd"
      },
      "outputs": [],
      "source": [
        "from sklearn.model_selection import train_test_split\n",
        "X_train,X_test,y_train,y_test=train_test_split(X,y,test_size=0.2)"
      ]
    },
    {
      "cell_type": "code",
      "execution_count": 88,
      "metadata": {
        "id": "NcvA059s2oPF"
      },
      "outputs": [],
      "source": [
        "from sklearn.linear_model import LinearRegression\n",
        "from sklearn.preprocessing import OneHotEncoder\n",
        "from sklearn.compose import make_column_transformer\n",
        "from sklearn.pipeline import make_pipeline\n",
        "from sklearn.metrics import r2_score"
      ]
    },
    {
      "cell_type": "markdown",
      "metadata": {
        "id": "-KZLEtnT2sm-"
      },
      "source": [
        "Creating an OneHotEncoder object to contain all the possible categories"
      ]
    },
    {
      "cell_type": "code",
      "execution_count": 89,
      "metadata": {
        "colab": {
          "base_uri": "https://localhost:8080/",
          "height": 74
        },
        "id": "GuBUEHoc2vzM",
        "outputId": "f1ecd6c9-1739-433c-8521-2f7908d42dfc"
      },
      "outputs": [
        {
          "data": {
            "text/html": [
              "<style>#sk-container-id-3 {\n",
              "  /* Definition of color scheme common for light and dark mode */\n",
              "  --sklearn-color-text: black;\n",
              "  --sklearn-color-line: gray;\n",
              "  /* Definition of color scheme for unfitted estimators */\n",
              "  --sklearn-color-unfitted-level-0: #fff5e6;\n",
              "  --sklearn-color-unfitted-level-1: #f6e4d2;\n",
              "  --sklearn-color-unfitted-level-2: #ffe0b3;\n",
              "  --sklearn-color-unfitted-level-3: chocolate;\n",
              "  /* Definition of color scheme for fitted estimators */\n",
              "  --sklearn-color-fitted-level-0: #f0f8ff;\n",
              "  --sklearn-color-fitted-level-1: #d4ebff;\n",
              "  --sklearn-color-fitted-level-2: #b3dbfd;\n",
              "  --sklearn-color-fitted-level-3: cornflowerblue;\n",
              "\n",
              "  /* Specific color for light theme */\n",
              "  --sklearn-color-text-on-default-background: var(--sg-text-color, var(--theme-code-foreground, var(--jp-content-font-color1, black)));\n",
              "  --sklearn-color-background: var(--sg-background-color, var(--theme-background, var(--jp-layout-color0, white)));\n",
              "  --sklearn-color-border-box: var(--sg-text-color, var(--theme-code-foreground, var(--jp-content-font-color1, black)));\n",
              "  --sklearn-color-icon: #696969;\n",
              "\n",
              "  @media (prefers-color-scheme: dark) {\n",
              "    /* Redefinition of color scheme for dark theme */\n",
              "    --sklearn-color-text-on-default-background: var(--sg-text-color, var(--theme-code-foreground, var(--jp-content-font-color1, white)));\n",
              "    --sklearn-color-background: var(--sg-background-color, var(--theme-background, var(--jp-layout-color0, #111)));\n",
              "    --sklearn-color-border-box: var(--sg-text-color, var(--theme-code-foreground, var(--jp-content-font-color1, white)));\n",
              "    --sklearn-color-icon: #878787;\n",
              "  }\n",
              "}\n",
              "\n",
              "#sk-container-id-3 {\n",
              "  color: var(--sklearn-color-text);\n",
              "}\n",
              "\n",
              "#sk-container-id-3 pre {\n",
              "  padding: 0;\n",
              "}\n",
              "\n",
              "#sk-container-id-3 input.sk-hidden--visually {\n",
              "  border: 0;\n",
              "  clip: rect(1px 1px 1px 1px);\n",
              "  clip: rect(1px, 1px, 1px, 1px);\n",
              "  height: 1px;\n",
              "  margin: -1px;\n",
              "  overflow: hidden;\n",
              "  padding: 0;\n",
              "  position: absolute;\n",
              "  width: 1px;\n",
              "}\n",
              "\n",
              "#sk-container-id-3 div.sk-dashed-wrapped {\n",
              "  border: 1px dashed var(--sklearn-color-line);\n",
              "  margin: 0 0.4em 0.5em 0.4em;\n",
              "  box-sizing: border-box;\n",
              "  padding-bottom: 0.4em;\n",
              "  background-color: var(--sklearn-color-background);\n",
              "}\n",
              "\n",
              "#sk-container-id-3 div.sk-container {\n",
              "  /* jupyter's `normalize.less` sets `[hidden] { display: none; }`\n",
              "     but bootstrap.min.css set `[hidden] { display: none !important; }`\n",
              "     so we also need the `!important` here to be able to override the\n",
              "     default hidden behavior on the sphinx rendered scikit-learn.org.\n",
              "     See: https://github.com/scikit-learn/scikit-learn/issues/21755 */\n",
              "  display: inline-block !important;\n",
              "  position: relative;\n",
              "}\n",
              "\n",
              "#sk-container-id-3 div.sk-text-repr-fallback {\n",
              "  display: none;\n",
              "}\n",
              "\n",
              "div.sk-parallel-item,\n",
              "div.sk-serial,\n",
              "div.sk-item {\n",
              "  /* draw centered vertical line to link estimators */\n",
              "  background-image: linear-gradient(var(--sklearn-color-text-on-default-background), var(--sklearn-color-text-on-default-background));\n",
              "  background-size: 2px 100%;\n",
              "  background-repeat: no-repeat;\n",
              "  background-position: center center;\n",
              "}\n",
              "\n",
              "/* Parallel-specific style estimator block */\n",
              "\n",
              "#sk-container-id-3 div.sk-parallel-item::after {\n",
              "  content: \"\";\n",
              "  width: 100%;\n",
              "  border-bottom: 2px solid var(--sklearn-color-text-on-default-background);\n",
              "  flex-grow: 1;\n",
              "}\n",
              "\n",
              "#sk-container-id-3 div.sk-parallel {\n",
              "  display: flex;\n",
              "  align-items: stretch;\n",
              "  justify-content: center;\n",
              "  background-color: var(--sklearn-color-background);\n",
              "  position: relative;\n",
              "}\n",
              "\n",
              "#sk-container-id-3 div.sk-parallel-item {\n",
              "  display: flex;\n",
              "  flex-direction: column;\n",
              "}\n",
              "\n",
              "#sk-container-id-3 div.sk-parallel-item:first-child::after {\n",
              "  align-self: flex-end;\n",
              "  width: 50%;\n",
              "}\n",
              "\n",
              "#sk-container-id-3 div.sk-parallel-item:last-child::after {\n",
              "  align-self: flex-start;\n",
              "  width: 50%;\n",
              "}\n",
              "\n",
              "#sk-container-id-3 div.sk-parallel-item:only-child::after {\n",
              "  width: 0;\n",
              "}\n",
              "\n",
              "/* Serial-specific style estimator block */\n",
              "\n",
              "#sk-container-id-3 div.sk-serial {\n",
              "  display: flex;\n",
              "  flex-direction: column;\n",
              "  align-items: center;\n",
              "  background-color: var(--sklearn-color-background);\n",
              "  padding-right: 1em;\n",
              "  padding-left: 1em;\n",
              "}\n",
              "\n",
              "\n",
              "/* Toggleable style: style used for estimator/Pipeline/ColumnTransformer box that is\n",
              "clickable and can be expanded/collapsed.\n",
              "- Pipeline and ColumnTransformer use this feature and define the default style\n",
              "- Estimators will overwrite some part of the style using the `sk-estimator` class\n",
              "*/\n",
              "\n",
              "/* Pipeline and ColumnTransformer style (default) */\n",
              "\n",
              "#sk-container-id-3 div.sk-toggleable {\n",
              "  /* Default theme specific background. It is overwritten whether we have a\n",
              "  specific estimator or a Pipeline/ColumnTransformer */\n",
              "  background-color: var(--sklearn-color-background);\n",
              "}\n",
              "\n",
              "/* Toggleable label */\n",
              "#sk-container-id-3 label.sk-toggleable__label {\n",
              "  cursor: pointer;\n",
              "  display: block;\n",
              "  width: 100%;\n",
              "  margin-bottom: 0;\n",
              "  padding: 0.5em;\n",
              "  box-sizing: border-box;\n",
              "  text-align: center;\n",
              "}\n",
              "\n",
              "#sk-container-id-3 label.sk-toggleable__label-arrow:before {\n",
              "  /* Arrow on the left of the label */\n",
              "  content: \"▸\";\n",
              "  float: left;\n",
              "  margin-right: 0.25em;\n",
              "  color: var(--sklearn-color-icon);\n",
              "}\n",
              "\n",
              "#sk-container-id-3 label.sk-toggleable__label-arrow:hover:before {\n",
              "  color: var(--sklearn-color-text);\n",
              "}\n",
              "\n",
              "/* Toggleable content - dropdown */\n",
              "\n",
              "#sk-container-id-3 div.sk-toggleable__content {\n",
              "  max-height: 0;\n",
              "  max-width: 0;\n",
              "  overflow: hidden;\n",
              "  text-align: left;\n",
              "  /* unfitted */\n",
              "  background-color: var(--sklearn-color-unfitted-level-0);\n",
              "}\n",
              "\n",
              "#sk-container-id-3 div.sk-toggleable__content.fitted {\n",
              "  /* fitted */\n",
              "  background-color: var(--sklearn-color-fitted-level-0);\n",
              "}\n",
              "\n",
              "#sk-container-id-3 div.sk-toggleable__content pre {\n",
              "  margin: 0.2em;\n",
              "  border-radius: 0.25em;\n",
              "  color: var(--sklearn-color-text);\n",
              "  /* unfitted */\n",
              "  background-color: var(--sklearn-color-unfitted-level-0);\n",
              "}\n",
              "\n",
              "#sk-container-id-3 div.sk-toggleable__content.fitted pre {\n",
              "  /* unfitted */\n",
              "  background-color: var(--sklearn-color-fitted-level-0);\n",
              "}\n",
              "\n",
              "#sk-container-id-3 input.sk-toggleable__control:checked~div.sk-toggleable__content {\n",
              "  /* Expand drop-down */\n",
              "  max-height: 200px;\n",
              "  max-width: 100%;\n",
              "  overflow: auto;\n",
              "}\n",
              "\n",
              "#sk-container-id-3 input.sk-toggleable__control:checked~label.sk-toggleable__label-arrow:before {\n",
              "  content: \"▾\";\n",
              "}\n",
              "\n",
              "/* Pipeline/ColumnTransformer-specific style */\n",
              "\n",
              "#sk-container-id-3 div.sk-label input.sk-toggleable__control:checked~label.sk-toggleable__label {\n",
              "  color: var(--sklearn-color-text);\n",
              "  background-color: var(--sklearn-color-unfitted-level-2);\n",
              "}\n",
              "\n",
              "#sk-container-id-3 div.sk-label.fitted input.sk-toggleable__control:checked~label.sk-toggleable__label {\n",
              "  background-color: var(--sklearn-color-fitted-level-2);\n",
              "}\n",
              "\n",
              "/* Estimator-specific style */\n",
              "\n",
              "/* Colorize estimator box */\n",
              "#sk-container-id-3 div.sk-estimator input.sk-toggleable__control:checked~label.sk-toggleable__label {\n",
              "  /* unfitted */\n",
              "  background-color: var(--sklearn-color-unfitted-level-2);\n",
              "}\n",
              "\n",
              "#sk-container-id-3 div.sk-estimator.fitted input.sk-toggleable__control:checked~label.sk-toggleable__label {\n",
              "  /* fitted */\n",
              "  background-color: var(--sklearn-color-fitted-level-2);\n",
              "}\n",
              "\n",
              "#sk-container-id-3 div.sk-label label.sk-toggleable__label,\n",
              "#sk-container-id-3 div.sk-label label {\n",
              "  /* The background is the default theme color */\n",
              "  color: var(--sklearn-color-text-on-default-background);\n",
              "}\n",
              "\n",
              "/* On hover, darken the color of the background */\n",
              "#sk-container-id-3 div.sk-label:hover label.sk-toggleable__label {\n",
              "  color: var(--sklearn-color-text);\n",
              "  background-color: var(--sklearn-color-unfitted-level-2);\n",
              "}\n",
              "\n",
              "/* Label box, darken color on hover, fitted */\n",
              "#sk-container-id-3 div.sk-label.fitted:hover label.sk-toggleable__label.fitted {\n",
              "  color: var(--sklearn-color-text);\n",
              "  background-color: var(--sklearn-color-fitted-level-2);\n",
              "}\n",
              "\n",
              "/* Estimator label */\n",
              "\n",
              "#sk-container-id-3 div.sk-label label {\n",
              "  font-family: monospace;\n",
              "  font-weight: bold;\n",
              "  display: inline-block;\n",
              "  line-height: 1.2em;\n",
              "}\n",
              "\n",
              "#sk-container-id-3 div.sk-label-container {\n",
              "  text-align: center;\n",
              "}\n",
              "\n",
              "/* Estimator-specific */\n",
              "#sk-container-id-3 div.sk-estimator {\n",
              "  font-family: monospace;\n",
              "  border: 1px dotted var(--sklearn-color-border-box);\n",
              "  border-radius: 0.25em;\n",
              "  box-sizing: border-box;\n",
              "  margin-bottom: 0.5em;\n",
              "  /* unfitted */\n",
              "  background-color: var(--sklearn-color-unfitted-level-0);\n",
              "}\n",
              "\n",
              "#sk-container-id-3 div.sk-estimator.fitted {\n",
              "  /* fitted */\n",
              "  background-color: var(--sklearn-color-fitted-level-0);\n",
              "}\n",
              "\n",
              "/* on hover */\n",
              "#sk-container-id-3 div.sk-estimator:hover {\n",
              "  /* unfitted */\n",
              "  background-color: var(--sklearn-color-unfitted-level-2);\n",
              "}\n",
              "\n",
              "#sk-container-id-3 div.sk-estimator.fitted:hover {\n",
              "  /* fitted */\n",
              "  background-color: var(--sklearn-color-fitted-level-2);\n",
              "}\n",
              "\n",
              "/* Specification for estimator info (e.g. \"i\" and \"?\") */\n",
              "\n",
              "/* Common style for \"i\" and \"?\" */\n",
              "\n",
              ".sk-estimator-doc-link,\n",
              "a:link.sk-estimator-doc-link,\n",
              "a:visited.sk-estimator-doc-link {\n",
              "  float: right;\n",
              "  font-size: smaller;\n",
              "  line-height: 1em;\n",
              "  font-family: monospace;\n",
              "  background-color: var(--sklearn-color-background);\n",
              "  border-radius: 1em;\n",
              "  height: 1em;\n",
              "  width: 1em;\n",
              "  text-decoration: none !important;\n",
              "  margin-left: 1ex;\n",
              "  /* unfitted */\n",
              "  border: var(--sklearn-color-unfitted-level-1) 1pt solid;\n",
              "  color: var(--sklearn-color-unfitted-level-1);\n",
              "}\n",
              "\n",
              ".sk-estimator-doc-link.fitted,\n",
              "a:link.sk-estimator-doc-link.fitted,\n",
              "a:visited.sk-estimator-doc-link.fitted {\n",
              "  /* fitted */\n",
              "  border: var(--sklearn-color-fitted-level-1) 1pt solid;\n",
              "  color: var(--sklearn-color-fitted-level-1);\n",
              "}\n",
              "\n",
              "/* On hover */\n",
              "div.sk-estimator:hover .sk-estimator-doc-link:hover,\n",
              ".sk-estimator-doc-link:hover,\n",
              "div.sk-label-container:hover .sk-estimator-doc-link:hover,\n",
              ".sk-estimator-doc-link:hover {\n",
              "  /* unfitted */\n",
              "  background-color: var(--sklearn-color-unfitted-level-3);\n",
              "  color: var(--sklearn-color-background);\n",
              "  text-decoration: none;\n",
              "}\n",
              "\n",
              "div.sk-estimator.fitted:hover .sk-estimator-doc-link.fitted:hover,\n",
              ".sk-estimator-doc-link.fitted:hover,\n",
              "div.sk-label-container:hover .sk-estimator-doc-link.fitted:hover,\n",
              ".sk-estimator-doc-link.fitted:hover {\n",
              "  /* fitted */\n",
              "  background-color: var(--sklearn-color-fitted-level-3);\n",
              "  color: var(--sklearn-color-background);\n",
              "  text-decoration: none;\n",
              "}\n",
              "\n",
              "/* Span, style for the box shown on hovering the info icon */\n",
              ".sk-estimator-doc-link span {\n",
              "  display: none;\n",
              "  z-index: 9999;\n",
              "  position: relative;\n",
              "  font-weight: normal;\n",
              "  right: .2ex;\n",
              "  padding: .5ex;\n",
              "  margin: .5ex;\n",
              "  width: min-content;\n",
              "  min-width: 20ex;\n",
              "  max-width: 50ex;\n",
              "  color: var(--sklearn-color-text);\n",
              "  box-shadow: 2pt 2pt 4pt #999;\n",
              "  /* unfitted */\n",
              "  background: var(--sklearn-color-unfitted-level-0);\n",
              "  border: .5pt solid var(--sklearn-color-unfitted-level-3);\n",
              "}\n",
              "\n",
              ".sk-estimator-doc-link.fitted span {\n",
              "  /* fitted */\n",
              "  background: var(--sklearn-color-fitted-level-0);\n",
              "  border: var(--sklearn-color-fitted-level-3);\n",
              "}\n",
              "\n",
              ".sk-estimator-doc-link:hover span {\n",
              "  display: block;\n",
              "}\n",
              "\n",
              "/* \"?\"-specific style due to the `<a>` HTML tag */\n",
              "\n",
              "#sk-container-id-3 a.estimator_doc_link {\n",
              "  float: right;\n",
              "  font-size: 1rem;\n",
              "  line-height: 1em;\n",
              "  font-family: monospace;\n",
              "  background-color: var(--sklearn-color-background);\n",
              "  border-radius: 1rem;\n",
              "  height: 1rem;\n",
              "  width: 1rem;\n",
              "  text-decoration: none;\n",
              "  /* unfitted */\n",
              "  color: var(--sklearn-color-unfitted-level-1);\n",
              "  border: var(--sklearn-color-unfitted-level-1) 1pt solid;\n",
              "}\n",
              "\n",
              "#sk-container-id-3 a.estimator_doc_link.fitted {\n",
              "  /* fitted */\n",
              "  border: var(--sklearn-color-fitted-level-1) 1pt solid;\n",
              "  color: var(--sklearn-color-fitted-level-1);\n",
              "}\n",
              "\n",
              "/* On hover */\n",
              "#sk-container-id-3 a.estimator_doc_link:hover {\n",
              "  /* unfitted */\n",
              "  background-color: var(--sklearn-color-unfitted-level-3);\n",
              "  color: var(--sklearn-color-background);\n",
              "  text-decoration: none;\n",
              "}\n",
              "\n",
              "#sk-container-id-3 a.estimator_doc_link.fitted:hover {\n",
              "  /* fitted */\n",
              "  background-color: var(--sklearn-color-fitted-level-3);\n",
              "}\n",
              "</style><div id=\"sk-container-id-3\" class=\"sk-top-container\"><div class=\"sk-text-repr-fallback\"><pre>OneHotEncoder()</pre><b>In a Jupyter environment, please rerun this cell to show the HTML representation or trust the notebook. <br />On GitHub, the HTML representation is unable to render, please try loading this page with nbviewer.org.</b></div><div class=\"sk-container\" hidden><div class=\"sk-item\"><div class=\"sk-estimator fitted sk-toggleable\"><input class=\"sk-toggleable__control sk-hidden--visually\" id=\"sk-estimator-id-9\" type=\"checkbox\" checked><label for=\"sk-estimator-id-9\" class=\"sk-toggleable__label fitted sk-toggleable__label-arrow fitted\">&nbsp;&nbsp;OneHotEncoder<a class=\"sk-estimator-doc-link fitted\" rel=\"noreferrer\" target=\"_blank\" href=\"https://scikit-learn.org/1.4/modules/generated/sklearn.preprocessing.OneHotEncoder.html\">?<span>Documentation for OneHotEncoder</span></a><span class=\"sk-estimator-doc-link fitted\">i<span>Fitted</span></span></label><div class=\"sk-toggleable__content fitted\"><pre>OneHotEncoder()</pre></div> </div></div></div></div>"
            ],
            "text/plain": [
              "OneHotEncoder()"
            ]
          },
          "execution_count": 89,
          "metadata": {},
          "output_type": "execute_result"
        }
      ],
      "source": [
        "ohe=OneHotEncoder()\n",
        "ohe.fit(X[['Name','company','Fuel_Type']])"
      ]
    },
    {
      "cell_type": "markdown",
      "metadata": {
        "id": "5v2PC7z4237s"
      },
      "source": [
        "Creating a column transformer to transform categorical columns"
      ]
    },
    {
      "cell_type": "code",
      "execution_count": 90,
      "metadata": {
        "id": "hz2n3Trb23ol"
      },
      "outputs": [],
      "source": [
        "column_trans=make_column_transformer((OneHotEncoder(categories=ohe.categories_),['Name','company','Fuel_Type']),\n",
        "                                    remainder='passthrough')"
      ]
    },
    {
      "cell_type": "code",
      "execution_count": 91,
      "metadata": {
        "id": "Zj0l3atZ2_BF"
      },
      "outputs": [],
      "source": [
        "lr=LinearRegression()"
      ]
    },
    {
      "cell_type": "code",
      "execution_count": 92,
      "metadata": {
        "id": "iWaatDZM3FoF"
      },
      "outputs": [],
      "source": [
        "pipe=make_pipeline(column_trans,lr)"
      ]
    },
    {
      "cell_type": "code",
      "execution_count": 93,
      "metadata": {
        "colab": {
          "base_uri": "https://localhost:8080/",
          "height": 191
        },
        "id": "NvguotlD3H4k",
        "outputId": "1f1bef3b-e29e-44ae-863c-d0add2e8a663"
      },
      "outputs": [
        {
          "data": {
            "text/html": [
              "<style>#sk-container-id-4 {\n",
              "  /* Definition of color scheme common for light and dark mode */\n",
              "  --sklearn-color-text: black;\n",
              "  --sklearn-color-line: gray;\n",
              "  /* Definition of color scheme for unfitted estimators */\n",
              "  --sklearn-color-unfitted-level-0: #fff5e6;\n",
              "  --sklearn-color-unfitted-level-1: #f6e4d2;\n",
              "  --sklearn-color-unfitted-level-2: #ffe0b3;\n",
              "  --sklearn-color-unfitted-level-3: chocolate;\n",
              "  /* Definition of color scheme for fitted estimators */\n",
              "  --sklearn-color-fitted-level-0: #f0f8ff;\n",
              "  --sklearn-color-fitted-level-1: #d4ebff;\n",
              "  --sklearn-color-fitted-level-2: #b3dbfd;\n",
              "  --sklearn-color-fitted-level-3: cornflowerblue;\n",
              "\n",
              "  /* Specific color for light theme */\n",
              "  --sklearn-color-text-on-default-background: var(--sg-text-color, var(--theme-code-foreground, var(--jp-content-font-color1, black)));\n",
              "  --sklearn-color-background: var(--sg-background-color, var(--theme-background, var(--jp-layout-color0, white)));\n",
              "  --sklearn-color-border-box: var(--sg-text-color, var(--theme-code-foreground, var(--jp-content-font-color1, black)));\n",
              "  --sklearn-color-icon: #696969;\n",
              "\n",
              "  @media (prefers-color-scheme: dark) {\n",
              "    /* Redefinition of color scheme for dark theme */\n",
              "    --sklearn-color-text-on-default-background: var(--sg-text-color, var(--theme-code-foreground, var(--jp-content-font-color1, white)));\n",
              "    --sklearn-color-background: var(--sg-background-color, var(--theme-background, var(--jp-layout-color0, #111)));\n",
              "    --sklearn-color-border-box: var(--sg-text-color, var(--theme-code-foreground, var(--jp-content-font-color1, white)));\n",
              "    --sklearn-color-icon: #878787;\n",
              "  }\n",
              "}\n",
              "\n",
              "#sk-container-id-4 {\n",
              "  color: var(--sklearn-color-text);\n",
              "}\n",
              "\n",
              "#sk-container-id-4 pre {\n",
              "  padding: 0;\n",
              "}\n",
              "\n",
              "#sk-container-id-4 input.sk-hidden--visually {\n",
              "  border: 0;\n",
              "  clip: rect(1px 1px 1px 1px);\n",
              "  clip: rect(1px, 1px, 1px, 1px);\n",
              "  height: 1px;\n",
              "  margin: -1px;\n",
              "  overflow: hidden;\n",
              "  padding: 0;\n",
              "  position: absolute;\n",
              "  width: 1px;\n",
              "}\n",
              "\n",
              "#sk-container-id-4 div.sk-dashed-wrapped {\n",
              "  border: 1px dashed var(--sklearn-color-line);\n",
              "  margin: 0 0.4em 0.5em 0.4em;\n",
              "  box-sizing: border-box;\n",
              "  padding-bottom: 0.4em;\n",
              "  background-color: var(--sklearn-color-background);\n",
              "}\n",
              "\n",
              "#sk-container-id-4 div.sk-container {\n",
              "  /* jupyter's `normalize.less` sets `[hidden] { display: none; }`\n",
              "     but bootstrap.min.css set `[hidden] { display: none !important; }`\n",
              "     so we also need the `!important` here to be able to override the\n",
              "     default hidden behavior on the sphinx rendered scikit-learn.org.\n",
              "     See: https://github.com/scikit-learn/scikit-learn/issues/21755 */\n",
              "  display: inline-block !important;\n",
              "  position: relative;\n",
              "}\n",
              "\n",
              "#sk-container-id-4 div.sk-text-repr-fallback {\n",
              "  display: none;\n",
              "}\n",
              "\n",
              "div.sk-parallel-item,\n",
              "div.sk-serial,\n",
              "div.sk-item {\n",
              "  /* draw centered vertical line to link estimators */\n",
              "  background-image: linear-gradient(var(--sklearn-color-text-on-default-background), var(--sklearn-color-text-on-default-background));\n",
              "  background-size: 2px 100%;\n",
              "  background-repeat: no-repeat;\n",
              "  background-position: center center;\n",
              "}\n",
              "\n",
              "/* Parallel-specific style estimator block */\n",
              "\n",
              "#sk-container-id-4 div.sk-parallel-item::after {\n",
              "  content: \"\";\n",
              "  width: 100%;\n",
              "  border-bottom: 2px solid var(--sklearn-color-text-on-default-background);\n",
              "  flex-grow: 1;\n",
              "}\n",
              "\n",
              "#sk-container-id-4 div.sk-parallel {\n",
              "  display: flex;\n",
              "  align-items: stretch;\n",
              "  justify-content: center;\n",
              "  background-color: var(--sklearn-color-background);\n",
              "  position: relative;\n",
              "}\n",
              "\n",
              "#sk-container-id-4 div.sk-parallel-item {\n",
              "  display: flex;\n",
              "  flex-direction: column;\n",
              "}\n",
              "\n",
              "#sk-container-id-4 div.sk-parallel-item:first-child::after {\n",
              "  align-self: flex-end;\n",
              "  width: 50%;\n",
              "}\n",
              "\n",
              "#sk-container-id-4 div.sk-parallel-item:last-child::after {\n",
              "  align-self: flex-start;\n",
              "  width: 50%;\n",
              "}\n",
              "\n",
              "#sk-container-id-4 div.sk-parallel-item:only-child::after {\n",
              "  width: 0;\n",
              "}\n",
              "\n",
              "/* Serial-specific style estimator block */\n",
              "\n",
              "#sk-container-id-4 div.sk-serial {\n",
              "  display: flex;\n",
              "  flex-direction: column;\n",
              "  align-items: center;\n",
              "  background-color: var(--sklearn-color-background);\n",
              "  padding-right: 1em;\n",
              "  padding-left: 1em;\n",
              "}\n",
              "\n",
              "\n",
              "/* Toggleable style: style used for estimator/Pipeline/ColumnTransformer box that is\n",
              "clickable and can be expanded/collapsed.\n",
              "- Pipeline and ColumnTransformer use this feature and define the default style\n",
              "- Estimators will overwrite some part of the style using the `sk-estimator` class\n",
              "*/\n",
              "\n",
              "/* Pipeline and ColumnTransformer style (default) */\n",
              "\n",
              "#sk-container-id-4 div.sk-toggleable {\n",
              "  /* Default theme specific background. It is overwritten whether we have a\n",
              "  specific estimator or a Pipeline/ColumnTransformer */\n",
              "  background-color: var(--sklearn-color-background);\n",
              "}\n",
              "\n",
              "/* Toggleable label */\n",
              "#sk-container-id-4 label.sk-toggleable__label {\n",
              "  cursor: pointer;\n",
              "  display: block;\n",
              "  width: 100%;\n",
              "  margin-bottom: 0;\n",
              "  padding: 0.5em;\n",
              "  box-sizing: border-box;\n",
              "  text-align: center;\n",
              "}\n",
              "\n",
              "#sk-container-id-4 label.sk-toggleable__label-arrow:before {\n",
              "  /* Arrow on the left of the label */\n",
              "  content: \"▸\";\n",
              "  float: left;\n",
              "  margin-right: 0.25em;\n",
              "  color: var(--sklearn-color-icon);\n",
              "}\n",
              "\n",
              "#sk-container-id-4 label.sk-toggleable__label-arrow:hover:before {\n",
              "  color: var(--sklearn-color-text);\n",
              "}\n",
              "\n",
              "/* Toggleable content - dropdown */\n",
              "\n",
              "#sk-container-id-4 div.sk-toggleable__content {\n",
              "  max-height: 0;\n",
              "  max-width: 0;\n",
              "  overflow: hidden;\n",
              "  text-align: left;\n",
              "  /* unfitted */\n",
              "  background-color: var(--sklearn-color-unfitted-level-0);\n",
              "}\n",
              "\n",
              "#sk-container-id-4 div.sk-toggleable__content.fitted {\n",
              "  /* fitted */\n",
              "  background-color: var(--sklearn-color-fitted-level-0);\n",
              "}\n",
              "\n",
              "#sk-container-id-4 div.sk-toggleable__content pre {\n",
              "  margin: 0.2em;\n",
              "  border-radius: 0.25em;\n",
              "  color: var(--sklearn-color-text);\n",
              "  /* unfitted */\n",
              "  background-color: var(--sklearn-color-unfitted-level-0);\n",
              "}\n",
              "\n",
              "#sk-container-id-4 div.sk-toggleable__content.fitted pre {\n",
              "  /* unfitted */\n",
              "  background-color: var(--sklearn-color-fitted-level-0);\n",
              "}\n",
              "\n",
              "#sk-container-id-4 input.sk-toggleable__control:checked~div.sk-toggleable__content {\n",
              "  /* Expand drop-down */\n",
              "  max-height: 200px;\n",
              "  max-width: 100%;\n",
              "  overflow: auto;\n",
              "}\n",
              "\n",
              "#sk-container-id-4 input.sk-toggleable__control:checked~label.sk-toggleable__label-arrow:before {\n",
              "  content: \"▾\";\n",
              "}\n",
              "\n",
              "/* Pipeline/ColumnTransformer-specific style */\n",
              "\n",
              "#sk-container-id-4 div.sk-label input.sk-toggleable__control:checked~label.sk-toggleable__label {\n",
              "  color: var(--sklearn-color-text);\n",
              "  background-color: var(--sklearn-color-unfitted-level-2);\n",
              "}\n",
              "\n",
              "#sk-container-id-4 div.sk-label.fitted input.sk-toggleable__control:checked~label.sk-toggleable__label {\n",
              "  background-color: var(--sklearn-color-fitted-level-2);\n",
              "}\n",
              "\n",
              "/* Estimator-specific style */\n",
              "\n",
              "/* Colorize estimator box */\n",
              "#sk-container-id-4 div.sk-estimator input.sk-toggleable__control:checked~label.sk-toggleable__label {\n",
              "  /* unfitted */\n",
              "  background-color: var(--sklearn-color-unfitted-level-2);\n",
              "}\n",
              "\n",
              "#sk-container-id-4 div.sk-estimator.fitted input.sk-toggleable__control:checked~label.sk-toggleable__label {\n",
              "  /* fitted */\n",
              "  background-color: var(--sklearn-color-fitted-level-2);\n",
              "}\n",
              "\n",
              "#sk-container-id-4 div.sk-label label.sk-toggleable__label,\n",
              "#sk-container-id-4 div.sk-label label {\n",
              "  /* The background is the default theme color */\n",
              "  color: var(--sklearn-color-text-on-default-background);\n",
              "}\n",
              "\n",
              "/* On hover, darken the color of the background */\n",
              "#sk-container-id-4 div.sk-label:hover label.sk-toggleable__label {\n",
              "  color: var(--sklearn-color-text);\n",
              "  background-color: var(--sklearn-color-unfitted-level-2);\n",
              "}\n",
              "\n",
              "/* Label box, darken color on hover, fitted */\n",
              "#sk-container-id-4 div.sk-label.fitted:hover label.sk-toggleable__label.fitted {\n",
              "  color: var(--sklearn-color-text);\n",
              "  background-color: var(--sklearn-color-fitted-level-2);\n",
              "}\n",
              "\n",
              "/* Estimator label */\n",
              "\n",
              "#sk-container-id-4 div.sk-label label {\n",
              "  font-family: monospace;\n",
              "  font-weight: bold;\n",
              "  display: inline-block;\n",
              "  line-height: 1.2em;\n",
              "}\n",
              "\n",
              "#sk-container-id-4 div.sk-label-container {\n",
              "  text-align: center;\n",
              "}\n",
              "\n",
              "/* Estimator-specific */\n",
              "#sk-container-id-4 div.sk-estimator {\n",
              "  font-family: monospace;\n",
              "  border: 1px dotted var(--sklearn-color-border-box);\n",
              "  border-radius: 0.25em;\n",
              "  box-sizing: border-box;\n",
              "  margin-bottom: 0.5em;\n",
              "  /* unfitted */\n",
              "  background-color: var(--sklearn-color-unfitted-level-0);\n",
              "}\n",
              "\n",
              "#sk-container-id-4 div.sk-estimator.fitted {\n",
              "  /* fitted */\n",
              "  background-color: var(--sklearn-color-fitted-level-0);\n",
              "}\n",
              "\n",
              "/* on hover */\n",
              "#sk-container-id-4 div.sk-estimator:hover {\n",
              "  /* unfitted */\n",
              "  background-color: var(--sklearn-color-unfitted-level-2);\n",
              "}\n",
              "\n",
              "#sk-container-id-4 div.sk-estimator.fitted:hover {\n",
              "  /* fitted */\n",
              "  background-color: var(--sklearn-color-fitted-level-2);\n",
              "}\n",
              "\n",
              "/* Specification for estimator info (e.g. \"i\" and \"?\") */\n",
              "\n",
              "/* Common style for \"i\" and \"?\" */\n",
              "\n",
              ".sk-estimator-doc-link,\n",
              "a:link.sk-estimator-doc-link,\n",
              "a:visited.sk-estimator-doc-link {\n",
              "  float: right;\n",
              "  font-size: smaller;\n",
              "  line-height: 1em;\n",
              "  font-family: monospace;\n",
              "  background-color: var(--sklearn-color-background);\n",
              "  border-radius: 1em;\n",
              "  height: 1em;\n",
              "  width: 1em;\n",
              "  text-decoration: none !important;\n",
              "  margin-left: 1ex;\n",
              "  /* unfitted */\n",
              "  border: var(--sklearn-color-unfitted-level-1) 1pt solid;\n",
              "  color: var(--sklearn-color-unfitted-level-1);\n",
              "}\n",
              "\n",
              ".sk-estimator-doc-link.fitted,\n",
              "a:link.sk-estimator-doc-link.fitted,\n",
              "a:visited.sk-estimator-doc-link.fitted {\n",
              "  /* fitted */\n",
              "  border: var(--sklearn-color-fitted-level-1) 1pt solid;\n",
              "  color: var(--sklearn-color-fitted-level-1);\n",
              "}\n",
              "\n",
              "/* On hover */\n",
              "div.sk-estimator:hover .sk-estimator-doc-link:hover,\n",
              ".sk-estimator-doc-link:hover,\n",
              "div.sk-label-container:hover .sk-estimator-doc-link:hover,\n",
              ".sk-estimator-doc-link:hover {\n",
              "  /* unfitted */\n",
              "  background-color: var(--sklearn-color-unfitted-level-3);\n",
              "  color: var(--sklearn-color-background);\n",
              "  text-decoration: none;\n",
              "}\n",
              "\n",
              "div.sk-estimator.fitted:hover .sk-estimator-doc-link.fitted:hover,\n",
              ".sk-estimator-doc-link.fitted:hover,\n",
              "div.sk-label-container:hover .sk-estimator-doc-link.fitted:hover,\n",
              ".sk-estimator-doc-link.fitted:hover {\n",
              "  /* fitted */\n",
              "  background-color: var(--sklearn-color-fitted-level-3);\n",
              "  color: var(--sklearn-color-background);\n",
              "  text-decoration: none;\n",
              "}\n",
              "\n",
              "/* Span, style for the box shown on hovering the info icon */\n",
              ".sk-estimator-doc-link span {\n",
              "  display: none;\n",
              "  z-index: 9999;\n",
              "  position: relative;\n",
              "  font-weight: normal;\n",
              "  right: .2ex;\n",
              "  padding: .5ex;\n",
              "  margin: .5ex;\n",
              "  width: min-content;\n",
              "  min-width: 20ex;\n",
              "  max-width: 50ex;\n",
              "  color: var(--sklearn-color-text);\n",
              "  box-shadow: 2pt 2pt 4pt #999;\n",
              "  /* unfitted */\n",
              "  background: var(--sklearn-color-unfitted-level-0);\n",
              "  border: .5pt solid var(--sklearn-color-unfitted-level-3);\n",
              "}\n",
              "\n",
              ".sk-estimator-doc-link.fitted span {\n",
              "  /* fitted */\n",
              "  background: var(--sklearn-color-fitted-level-0);\n",
              "  border: var(--sklearn-color-fitted-level-3);\n",
              "}\n",
              "\n",
              ".sk-estimator-doc-link:hover span {\n",
              "  display: block;\n",
              "}\n",
              "\n",
              "/* \"?\"-specific style due to the `<a>` HTML tag */\n",
              "\n",
              "#sk-container-id-4 a.estimator_doc_link {\n",
              "  float: right;\n",
              "  font-size: 1rem;\n",
              "  line-height: 1em;\n",
              "  font-family: monospace;\n",
              "  background-color: var(--sklearn-color-background);\n",
              "  border-radius: 1rem;\n",
              "  height: 1rem;\n",
              "  width: 1rem;\n",
              "  text-decoration: none;\n",
              "  /* unfitted */\n",
              "  color: var(--sklearn-color-unfitted-level-1);\n",
              "  border: var(--sklearn-color-unfitted-level-1) 1pt solid;\n",
              "}\n",
              "\n",
              "#sk-container-id-4 a.estimator_doc_link.fitted {\n",
              "  /* fitted */\n",
              "  border: var(--sklearn-color-fitted-level-1) 1pt solid;\n",
              "  color: var(--sklearn-color-fitted-level-1);\n",
              "}\n",
              "\n",
              "/* On hover */\n",
              "#sk-container-id-4 a.estimator_doc_link:hover {\n",
              "  /* unfitted */\n",
              "  background-color: var(--sklearn-color-unfitted-level-3);\n",
              "  color: var(--sklearn-color-background);\n",
              "  text-decoration: none;\n",
              "}\n",
              "\n",
              "#sk-container-id-4 a.estimator_doc_link.fitted:hover {\n",
              "  /* fitted */\n",
              "  background-color: var(--sklearn-color-fitted-level-3);\n",
              "}\n",
              "</style><div id=\"sk-container-id-4\" class=\"sk-top-container\"><div class=\"sk-text-repr-fallback\"><pre>Pipeline(steps=[(&#x27;columntransformer&#x27;,\n",
              "                 ColumnTransformer(remainder=&#x27;passthrough&#x27;,\n",
              "                                   transformers=[(&#x27;onehotencoder&#x27;,\n",
              "                                                  OneHotEncoder(categories=[array([&#x27;Ambassador Classic Nova&#x27;, &#x27;Audi A3 35&#x27;, &#x27;Audi A4 1.8&#x27;,\n",
              "       &#x27;Audi A4 2.0&#x27;, &#x27;Audi A4 3.0&#x27;, &#x27;Audi A4 30&#x27;, &#x27;Audi A4 35&#x27;,\n",
              "       &#x27;Audi A4 New&#x27;, &#x27;Audi A6 2.0&#x27;, &#x27;Audi A6 2.7&#x27;, &#x27;Audi A6 2.8&#x27;,\n",
              "       &#x27;Audi A6 2011-2015&#x27;, &#x27;Audi A6 3.0&#x27;, &#x27;Audi A6 35&#x27;,\n",
              "       &#x27;Audi A7 2011-2015&#x27;, &#x27;Audi A8...\n",
              "       &#x27;Fiat&#x27;, &#x27;Force&#x27;, &#x27;Ford&#x27;, &#x27;Honda&#x27;, &#x27;Hyundai&#x27;, &#x27;ISUZU&#x27;, &#x27;Isuzu&#x27;,\n",
              "       &#x27;Jaguar&#x27;, &#x27;Jeep&#x27;, &#x27;Lamborghini&#x27;, &#x27;Land&#x27;, &#x27;Mahindra&#x27;, &#x27;Maruti&#x27;,\n",
              "       &#x27;Mercedes-Benz&#x27;, &#x27;Mini&#x27;, &#x27;Mitsubishi&#x27;, &#x27;Nissan&#x27;, &#x27;Porsche&#x27;,\n",
              "       &#x27;Renault&#x27;, &#x27;Skoda&#x27;, &#x27;Tata&#x27;, &#x27;Toyota&#x27;, &#x27;Volkswagen&#x27;, &#x27;Volvo&#x27;],\n",
              "      dtype=object),\n",
              "                                                                            array([&#x27;Diesel&#x27;, &#x27;Petrol&#x27;], dtype=object)]),\n",
              "                                                  [&#x27;Name&#x27;, &#x27;company&#x27;,\n",
              "                                                   &#x27;Fuel_Type&#x27;])])),\n",
              "                (&#x27;linearregression&#x27;, LinearRegression())])</pre><b>In a Jupyter environment, please rerun this cell to show the HTML representation or trust the notebook. <br />On GitHub, the HTML representation is unable to render, please try loading this page with nbviewer.org.</b></div><div class=\"sk-container\" hidden><div class=\"sk-item sk-dashed-wrapped\"><div class=\"sk-label-container\"><div class=\"sk-label fitted sk-toggleable\"><input class=\"sk-toggleable__control sk-hidden--visually\" id=\"sk-estimator-id-10\" type=\"checkbox\" ><label for=\"sk-estimator-id-10\" class=\"sk-toggleable__label fitted sk-toggleable__label-arrow fitted\">&nbsp;&nbsp;Pipeline<a class=\"sk-estimator-doc-link fitted\" rel=\"noreferrer\" target=\"_blank\" href=\"https://scikit-learn.org/1.4/modules/generated/sklearn.pipeline.Pipeline.html\">?<span>Documentation for Pipeline</span></a><span class=\"sk-estimator-doc-link fitted\">i<span>Fitted</span></span></label><div class=\"sk-toggleable__content fitted\"><pre>Pipeline(steps=[(&#x27;columntransformer&#x27;,\n",
              "                 ColumnTransformer(remainder=&#x27;passthrough&#x27;,\n",
              "                                   transformers=[(&#x27;onehotencoder&#x27;,\n",
              "                                                  OneHotEncoder(categories=[array([&#x27;Ambassador Classic Nova&#x27;, &#x27;Audi A3 35&#x27;, &#x27;Audi A4 1.8&#x27;,\n",
              "       &#x27;Audi A4 2.0&#x27;, &#x27;Audi A4 3.0&#x27;, &#x27;Audi A4 30&#x27;, &#x27;Audi A4 35&#x27;,\n",
              "       &#x27;Audi A4 New&#x27;, &#x27;Audi A6 2.0&#x27;, &#x27;Audi A6 2.7&#x27;, &#x27;Audi A6 2.8&#x27;,\n",
              "       &#x27;Audi A6 2011-2015&#x27;, &#x27;Audi A6 3.0&#x27;, &#x27;Audi A6 35&#x27;,\n",
              "       &#x27;Audi A7 2011-2015&#x27;, &#x27;Audi A8...\n",
              "       &#x27;Fiat&#x27;, &#x27;Force&#x27;, &#x27;Ford&#x27;, &#x27;Honda&#x27;, &#x27;Hyundai&#x27;, &#x27;ISUZU&#x27;, &#x27;Isuzu&#x27;,\n",
              "       &#x27;Jaguar&#x27;, &#x27;Jeep&#x27;, &#x27;Lamborghini&#x27;, &#x27;Land&#x27;, &#x27;Mahindra&#x27;, &#x27;Maruti&#x27;,\n",
              "       &#x27;Mercedes-Benz&#x27;, &#x27;Mini&#x27;, &#x27;Mitsubishi&#x27;, &#x27;Nissan&#x27;, &#x27;Porsche&#x27;,\n",
              "       &#x27;Renault&#x27;, &#x27;Skoda&#x27;, &#x27;Tata&#x27;, &#x27;Toyota&#x27;, &#x27;Volkswagen&#x27;, &#x27;Volvo&#x27;],\n",
              "      dtype=object),\n",
              "                                                                            array([&#x27;Diesel&#x27;, &#x27;Petrol&#x27;], dtype=object)]),\n",
              "                                                  [&#x27;Name&#x27;, &#x27;company&#x27;,\n",
              "                                                   &#x27;Fuel_Type&#x27;])])),\n",
              "                (&#x27;linearregression&#x27;, LinearRegression())])</pre></div> </div></div><div class=\"sk-serial\"><div class=\"sk-item sk-dashed-wrapped\"><div class=\"sk-label-container\"><div class=\"sk-label fitted sk-toggleable\"><input class=\"sk-toggleable__control sk-hidden--visually\" id=\"sk-estimator-id-11\" type=\"checkbox\" ><label for=\"sk-estimator-id-11\" class=\"sk-toggleable__label fitted sk-toggleable__label-arrow fitted\">&nbsp;columntransformer: ColumnTransformer<a class=\"sk-estimator-doc-link fitted\" rel=\"noreferrer\" target=\"_blank\" href=\"https://scikit-learn.org/1.4/modules/generated/sklearn.compose.ColumnTransformer.html\">?<span>Documentation for columntransformer: ColumnTransformer</span></a></label><div class=\"sk-toggleable__content fitted\"><pre>ColumnTransformer(remainder=&#x27;passthrough&#x27;,\n",
              "                  transformers=[(&#x27;onehotencoder&#x27;,\n",
              "                                 OneHotEncoder(categories=[array([&#x27;Ambassador Classic Nova&#x27;, &#x27;Audi A3 35&#x27;, &#x27;Audi A4 1.8&#x27;,\n",
              "       &#x27;Audi A4 2.0&#x27;, &#x27;Audi A4 3.0&#x27;, &#x27;Audi A4 30&#x27;, &#x27;Audi A4 35&#x27;,\n",
              "       &#x27;Audi A4 New&#x27;, &#x27;Audi A6 2.0&#x27;, &#x27;Audi A6 2.7&#x27;, &#x27;Audi A6 2.8&#x27;,\n",
              "       &#x27;Audi A6 2011-2015&#x27;, &#x27;Audi A6 3.0&#x27;, &#x27;Audi A6 35&#x27;,\n",
              "       &#x27;Audi A7 2011-2015&#x27;, &#x27;Audi A8 L&#x27;, &#x27;Audi Q3 2.0&#x27;,\n",
              "       &#x27;Audi Q3 2012-2015&#x27;, &#x27;Aud...\n",
              "                                                           array([&#x27;Ambassador&#x27;, &#x27;Audi&#x27;, &#x27;BMW&#x27;, &#x27;Bentley&#x27;, &#x27;Chevrolet&#x27;, &#x27;Datsun&#x27;,\n",
              "       &#x27;Fiat&#x27;, &#x27;Force&#x27;, &#x27;Ford&#x27;, &#x27;Honda&#x27;, &#x27;Hyundai&#x27;, &#x27;ISUZU&#x27;, &#x27;Isuzu&#x27;,\n",
              "       &#x27;Jaguar&#x27;, &#x27;Jeep&#x27;, &#x27;Lamborghini&#x27;, &#x27;Land&#x27;, &#x27;Mahindra&#x27;, &#x27;Maruti&#x27;,\n",
              "       &#x27;Mercedes-Benz&#x27;, &#x27;Mini&#x27;, &#x27;Mitsubishi&#x27;, &#x27;Nissan&#x27;, &#x27;Porsche&#x27;,\n",
              "       &#x27;Renault&#x27;, &#x27;Skoda&#x27;, &#x27;Tata&#x27;, &#x27;Toyota&#x27;, &#x27;Volkswagen&#x27;, &#x27;Volvo&#x27;],\n",
              "      dtype=object),\n",
              "                                                           array([&#x27;Diesel&#x27;, &#x27;Petrol&#x27;], dtype=object)]),\n",
              "                                 [&#x27;Name&#x27;, &#x27;company&#x27;, &#x27;Fuel_Type&#x27;])])</pre></div> </div></div><div class=\"sk-parallel\"><div class=\"sk-parallel-item\"><div class=\"sk-item\"><div class=\"sk-label-container\"><div class=\"sk-label fitted sk-toggleable\"><input class=\"sk-toggleable__control sk-hidden--visually\" id=\"sk-estimator-id-12\" type=\"checkbox\" ><label for=\"sk-estimator-id-12\" class=\"sk-toggleable__label fitted sk-toggleable__label-arrow fitted\">onehotencoder</label><div class=\"sk-toggleable__content fitted\"><pre>[&#x27;Name&#x27;, &#x27;company&#x27;, &#x27;Fuel_Type&#x27;]</pre></div> </div></div><div class=\"sk-serial\"><div class=\"sk-item\"><div class=\"sk-estimator fitted sk-toggleable\"><input class=\"sk-toggleable__control sk-hidden--visually\" id=\"sk-estimator-id-13\" type=\"checkbox\" ><label for=\"sk-estimator-id-13\" class=\"sk-toggleable__label fitted sk-toggleable__label-arrow fitted\">&nbsp;OneHotEncoder<a class=\"sk-estimator-doc-link fitted\" rel=\"noreferrer\" target=\"_blank\" href=\"https://scikit-learn.org/1.4/modules/generated/sklearn.preprocessing.OneHotEncoder.html\">?<span>Documentation for OneHotEncoder</span></a></label><div class=\"sk-toggleable__content fitted\"><pre>OneHotEncoder(categories=[array([&#x27;Ambassador Classic Nova&#x27;, &#x27;Audi A3 35&#x27;, &#x27;Audi A4 1.8&#x27;,\n",
              "       &#x27;Audi A4 2.0&#x27;, &#x27;Audi A4 3.0&#x27;, &#x27;Audi A4 30&#x27;, &#x27;Audi A4 35&#x27;,\n",
              "       &#x27;Audi A4 New&#x27;, &#x27;Audi A6 2.0&#x27;, &#x27;Audi A6 2.7&#x27;, &#x27;Audi A6 2.8&#x27;,\n",
              "       &#x27;Audi A6 2011-2015&#x27;, &#x27;Audi A6 3.0&#x27;, &#x27;Audi A6 35&#x27;,\n",
              "       &#x27;Audi A7 2011-2015&#x27;, &#x27;Audi A8 L&#x27;, &#x27;Audi Q3 2.0&#x27;,\n",
              "       &#x27;Audi Q3 2012-2015&#x27;, &#x27;Audi Q3 30&#x27;, &#x27;Audi Q3 35&#x27;, &#x27;Audi Q5 2.0&#x27;,\n",
              "       &#x27;Audi Q5 2008-2012&#x27;, &#x27;Audi Q5 3.0&#x27;, &#x27;Audi Q5 30&#x27;, &#x27;A...\n",
              "       &#x27;Volvo XC60 D5&#x27;, &#x27;Volvo XC90 2007-2015&#x27;], dtype=object),\n",
              "                          array([&#x27;Ambassador&#x27;, &#x27;Audi&#x27;, &#x27;BMW&#x27;, &#x27;Bentley&#x27;, &#x27;Chevrolet&#x27;, &#x27;Datsun&#x27;,\n",
              "       &#x27;Fiat&#x27;, &#x27;Force&#x27;, &#x27;Ford&#x27;, &#x27;Honda&#x27;, &#x27;Hyundai&#x27;, &#x27;ISUZU&#x27;, &#x27;Isuzu&#x27;,\n",
              "       &#x27;Jaguar&#x27;, &#x27;Jeep&#x27;, &#x27;Lamborghini&#x27;, &#x27;Land&#x27;, &#x27;Mahindra&#x27;, &#x27;Maruti&#x27;,\n",
              "       &#x27;Mercedes-Benz&#x27;, &#x27;Mini&#x27;, &#x27;Mitsubishi&#x27;, &#x27;Nissan&#x27;, &#x27;Porsche&#x27;,\n",
              "       &#x27;Renault&#x27;, &#x27;Skoda&#x27;, &#x27;Tata&#x27;, &#x27;Toyota&#x27;, &#x27;Volkswagen&#x27;, &#x27;Volvo&#x27;],\n",
              "      dtype=object),\n",
              "                          array([&#x27;Diesel&#x27;, &#x27;Petrol&#x27;], dtype=object)])</pre></div> </div></div></div></div></div><div class=\"sk-parallel-item\"><div class=\"sk-item\"><div class=\"sk-label-container\"><div class=\"sk-label fitted sk-toggleable\"><input class=\"sk-toggleable__control sk-hidden--visually\" id=\"sk-estimator-id-14\" type=\"checkbox\" ><label for=\"sk-estimator-id-14\" class=\"sk-toggleable__label fitted sk-toggleable__label-arrow fitted\">remainder</label><div class=\"sk-toggleable__content fitted\"><pre>[&#x27;Year&#x27;, &#x27;Kilometers_Driven&#x27;]</pre></div> </div></div><div class=\"sk-serial\"><div class=\"sk-item\"><div class=\"sk-estimator fitted sk-toggleable\"><input class=\"sk-toggleable__control sk-hidden--visually\" id=\"sk-estimator-id-15\" type=\"checkbox\" ><label for=\"sk-estimator-id-15\" class=\"sk-toggleable__label fitted sk-toggleable__label-arrow fitted\">passthrough</label><div class=\"sk-toggleable__content fitted\"><pre>passthrough</pre></div> </div></div></div></div></div></div></div><div class=\"sk-item\"><div class=\"sk-estimator fitted sk-toggleable\"><input class=\"sk-toggleable__control sk-hidden--visually\" id=\"sk-estimator-id-16\" type=\"checkbox\" ><label for=\"sk-estimator-id-16\" class=\"sk-toggleable__label fitted sk-toggleable__label-arrow fitted\">&nbsp;LinearRegression<a class=\"sk-estimator-doc-link fitted\" rel=\"noreferrer\" target=\"_blank\" href=\"https://scikit-learn.org/1.4/modules/generated/sklearn.linear_model.LinearRegression.html\">?<span>Documentation for LinearRegression</span></a></label><div class=\"sk-toggleable__content fitted\"><pre>LinearRegression()</pre></div> </div></div></div></div></div></div>"
            ],
            "text/plain": [
              "Pipeline(steps=[('columntransformer',\n",
              "                 ColumnTransformer(remainder='passthrough',\n",
              "                                   transformers=[('onehotencoder',\n",
              "                                                  OneHotEncoder(categories=[array(['Ambassador Classic Nova', 'Audi A3 35', 'Audi A4 1.8',\n",
              "       'Audi A4 2.0', 'Audi A4 3.0', 'Audi A4 30', 'Audi A4 35',\n",
              "       'Audi A4 New', 'Audi A6 2.0', 'Audi A6 2.7', 'Audi A6 2.8',\n",
              "       'Audi A6 2011-2015', 'Audi A6 3.0', 'Audi A6 35',\n",
              "       'Audi A7 2011-2015', 'Audi A8...\n",
              "       'Fiat', 'Force', 'Ford', 'Honda', 'Hyundai', 'ISUZU', 'Isuzu',\n",
              "       'Jaguar', 'Jeep', 'Lamborghini', 'Land', 'Mahindra', 'Maruti',\n",
              "       'Mercedes-Benz', 'Mini', 'Mitsubishi', 'Nissan', 'Porsche',\n",
              "       'Renault', 'Skoda', 'Tata', 'Toyota', 'Volkswagen', 'Volvo'],\n",
              "      dtype=object),\n",
              "                                                                            array(['Diesel', 'Petrol'], dtype=object)]),\n",
              "                                                  ['Name', 'company',\n",
              "                                                   'Fuel_Type'])])),\n",
              "                ('linearregression', LinearRegression())])"
            ]
          },
          "execution_count": 93,
          "metadata": {},
          "output_type": "execute_result"
        }
      ],
      "source": [
        "pipe.fit(X_train,y_train)"
      ]
    },
    {
      "cell_type": "code",
      "execution_count": 94,
      "metadata": {
        "id": "4GK2S1FL3KIk"
      },
      "outputs": [],
      "source": [
        "y_pred=pipe.predict(X_test)"
      ]
    },
    {
      "cell_type": "code",
      "execution_count": 95,
      "metadata": {
        "colab": {
          "base_uri": "https://localhost:8080/"
        },
        "id": "H5KOmVpw3L-k",
        "outputId": "15eb45da-a372-4854-c515-49d65c25f552"
      },
      "outputs": [
        {
          "data": {
            "text/plain": [
              "0.47678450551351004"
            ]
          },
          "execution_count": 95,
          "metadata": {},
          "output_type": "execute_result"
        }
      ],
      "source": [
        "r2_score(y_test,y_pred)"
      ]
    },
    {
      "cell_type": "code",
      "execution_count": 96,
      "metadata": {
        "id": "Ti5EMVZs3Oed"
      },
      "outputs": [],
      "source": [
        "scores=[]\n",
        "for i in range(1000):\n",
        "    X_train,X_test,y_train,y_test=train_test_split(X,y,test_size=0.1,random_state=i)\n",
        "    lr=LinearRegression()\n",
        "    pipe=make_pipeline(column_trans,lr)\n",
        "    pipe.fit(X_train,y_train)\n",
        "    y_pred=pipe.predict(X_test)\n",
        "    scores.append(r2_score(y_test,y_pred))"
      ]
    },
    {
      "cell_type": "code",
      "execution_count": 97,
      "metadata": {
        "colab": {
          "base_uri": "https://localhost:8080/"
        },
        "id": "Ff7N-7OK35D8",
        "outputId": "1d715b03-ddca-4ffa-eed4-05fe36c10173"
      },
      "outputs": [
        {
          "data": {
            "text/plain": [
              "98"
            ]
          },
          "execution_count": 97,
          "metadata": {},
          "output_type": "execute_result"
        }
      ],
      "source": [
        "np.argmax(scores)"
      ]
    },
    {
      "cell_type": "code",
      "execution_count": 98,
      "metadata": {
        "colab": {
          "base_uri": "https://localhost:8080/"
        },
        "id": "cq9dgdS837Kk",
        "outputId": "5d71ef53-be07-482b-cf72-7a767e884660"
      },
      "outputs": [
        {
          "data": {
            "text/plain": [
              "0.638662303084918"
            ]
          },
          "execution_count": 98,
          "metadata": {},
          "output_type": "execute_result"
        }
      ],
      "source": [
        "scores[np.argmax(scores)]"
      ]
    },
    {
      "cell_type": "code",
      "execution_count": 99,
      "metadata": {
        "colab": {
          "base_uri": "https://localhost:8080/"
        },
        "id": "KWEIJCq43-Xt",
        "outputId": "65fc815c-f09c-413d-a2a0-ec3cbaf3a3e5"
      },
      "outputs": [
        {
          "data": {
            "text/plain": [
              "array([7.62447574])"
            ]
          },
          "execution_count": 99,
          "metadata": {},
          "output_type": "execute_result"
        }
      ],
      "source": [
        "pipe.predict(pd.DataFrame(columns=X_test.columns,data=np.array(['Hyundai Creta 1.6','Hyundai',2015,100,'Diesel']).reshape(1,5)))"
      ]
    },
    {
      "cell_type": "code",
      "execution_count": 100,
      "metadata": {
        "colab": {
          "base_uri": "https://localhost:8080/"
        },
        "id": "a-6ekESI4RLj",
        "outputId": "09a773f7-fb89-4d24-bfdd-28c07001d8a5"
      },
      "outputs": [
        {
          "data": {
            "text/plain": [
              "0.638662303084918"
            ]
          },
          "execution_count": 100,
          "metadata": {},
          "output_type": "execute_result"
        }
      ],
      "source": [
        "X_train,X_test,y_train,y_test=train_test_split(X,y,test_size=0.1,random_state=np.argmax(scores))\n",
        "lr=LinearRegression()\n",
        "pipe=make_pipeline(column_trans,lr)\n",
        "pipe.fit(X_train,y_train)\n",
        "y_pred=pipe.predict(X_test)\n",
        "r2_score(y_test,y_pred)"
      ]
    },
    {
      "cell_type": "code",
      "execution_count": 101,
      "metadata": {
        "id": "m1XjeM6H4T8r"
      },
      "outputs": [],
      "source": [
        "import pickle\n",
        "pickle.dump(pipe,open('LinearRegressionModel.pkl','wb'))"
      ]
    },
    {
      "cell_type": "code",
      "execution_count": 102,
      "metadata": {
        "colab": {
          "base_uri": "https://localhost:8080/"
        },
        "id": "HCYeBaLo4dvE",
        "outputId": "2986e091-fa80-4799-fb29-a8a20387f10d"
      },
      "outputs": [
        {
          "data": {
            "text/plain": [
              "array([7.64088141])"
            ]
          },
          "execution_count": 102,
          "metadata": {},
          "output_type": "execute_result"
        }
      ],
      "source": [
        "pipe.predict(pd.DataFrame(columns=['Name','company','Year','Kilometers_Driven','Fuel_Type'],data=np.array(['Hyundai Creta 1.6','Hyundai',2015,100,'Diesel']).reshape(1,5)))"
      ]
    },
    {
      "cell_type": "code",
      "execution_count": 103,
      "metadata": {
        "colab": {
          "base_uri": "https://localhost:8080/"
        },
        "id": "_3MqEqDj4v7b",
        "outputId": "91c4679f-ee29-46ca-9a92-269005d273f1"
      },
      "outputs": [
        {
          "data": {
            "text/plain": [
              "array(['Ambassador Classic Nova', 'Audi A3 35', 'Audi A4 1.8',\n",
              "       'Audi A4 2.0', 'Audi A4 3.0', 'Audi A4 30', 'Audi A4 35',\n",
              "       'Audi A4 New', 'Audi A6 2.0', 'Audi A6 2.7', 'Audi A6 2.8',\n",
              "       'Audi A6 2011-2015', 'Audi A6 3.0', 'Audi A6 35',\n",
              "       'Audi A7 2011-2015', 'Audi A8 L', 'Audi Q3 2.0',\n",
              "       'Audi Q3 2012-2015', 'Audi Q3 30', 'Audi Q3 35', 'Audi Q5 2.0',\n",
              "       'Audi Q5 2008-2012', 'Audi Q5 3.0', 'Audi Q5 30', 'Audi Q7 3.0',\n",
              "       'Audi Q7 35', 'Audi Q7 4.2', 'Audi Q7 45', 'Audi RS5 Coupe',\n",
              "       'Audi TT 2.0', 'Audi TT 40', 'BMW 1 Series', 'BMW 3 Series',\n",
              "       'BMW 5 Series', 'BMW 6 Series', 'BMW 7 Series', 'BMW X1 M',\n",
              "       'BMW X1 sDrive', 'BMW X1 sDrive20d', 'BMW X1 xDrive',\n",
              "       'BMW X3 xDrive', 'BMW X3 xDrive20d', 'BMW X3 xDrive30d',\n",
              "       'BMW X5 2014-2019', 'BMW X5 3.0d', 'BMW X5 X5', 'BMW X5 xDrive',\n",
              "       'BMW X6 xDrive', 'BMW X6 xDrive30d', 'BMW Z4 2009-2013',\n",
              "       'Bentley Continental Flying', 'Chevrolet Aveo 1.4',\n",
              "       'Chevrolet Aveo 1.6', 'Chevrolet Aveo U-VA',\n",
              "       'Chevrolet Beat Diesel', 'Chevrolet Beat LS', 'Chevrolet Beat LT',\n",
              "       'Chevrolet Beat Option', 'Chevrolet Captiva LT',\n",
              "       'Chevrolet Captiva LTZ', 'Chevrolet Cruze LTZ',\n",
              "       'Chevrolet Enjoy 1.3', 'Chevrolet Enjoy 1.4',\n",
              "       'Chevrolet Enjoy Petrol', 'Chevrolet Enjoy TCDi',\n",
              "       'Chevrolet Optra 1.6', 'Chevrolet Optra Magnum',\n",
              "       'Chevrolet Sail 1.2', 'Chevrolet Sail Hatchback',\n",
              "       'Chevrolet Sail LT', 'Chevrolet Spark 1.0', 'Chevrolet Tavera LS',\n",
              "       'Chevrolet Tavera LT', 'Datsun GO NXT', 'Datsun GO Plus',\n",
              "       'Datsun GO T', 'Datsun Redi GO', 'Datsun redi-GO S',\n",
              "       'Datsun redi-GO T', 'Fiat Avventura MULTIJET', 'Fiat Grande Punto',\n",
              "       'Fiat Linea 1.3', 'Fiat Linea Classic', 'Fiat Linea Emotion',\n",
              "       'Fiat Linea T', 'Fiat Linea T-Jet', 'Fiat Punto EVO',\n",
              "       'Force One LX', 'Ford Aspire Ambiente', 'Ford Aspire Titanium',\n",
              "       'Ford Classic 1.4', 'Ford EcoSport 1.0', 'Ford EcoSport 1.5',\n",
              "       'Ford Ecosport 1.0', 'Ford Ecosport 1.5',\n",
              "       'Ford Ecosport Signature', 'Ford Endeavour 2.2',\n",
              "       'Ford Endeavour 2.5L', 'Ford Endeavour 3.0L', 'Ford Endeavour 3.2',\n",
              "       'Ford Endeavour 4x2', 'Ford Endeavour Hurricane',\n",
              "       'Ford Endeavour Titanium', 'Ford Endeavour XLT', 'Ford Fiesta 1.4',\n",
              "       'Ford Fiesta 1.5', 'Ford Fiesta 1.6', 'Ford Fiesta Classic',\n",
              "       'Ford Fiesta Diesel', 'Ford Fiesta EXi', 'Ford Fiesta Titanium',\n",
              "       'Ford Figo 1.2P', 'Ford Figo 1.5D', 'Ford Figo 2015-2019',\n",
              "       'Ford Figo Aspire', 'Ford Figo Diesel', 'Ford Figo Petrol',\n",
              "       'Ford Figo Titanium', 'Ford Freestyle Titanium',\n",
              "       'Ford Fusion Plus', 'Ford Ikon 1.3', 'Ford Ikon 1.4',\n",
              "       'Ford Ikon 1.6', 'Ford Mustang V8', 'Honda Accord 2.4',\n",
              "       'Honda Accord 2001-2003', 'Honda Accord V6', 'Honda Accord VTi-L',\n",
              "       'Honda Amaze E', 'Honda Amaze EX', 'Honda Amaze S',\n",
              "       'Honda Amaze SX', 'Honda Amaze V', 'Honda Amaze VX',\n",
              "       'Honda BR-V i-DTEC', 'Honda BR-V i-VTEC', 'Honda BRV i-VTEC',\n",
              "       'Honda Brio 1.2', 'Honda Brio E', 'Honda Brio EX', 'Honda Brio S',\n",
              "       'Honda Brio V', 'Honda Brio VX', 'Honda CR-V 2.0',\n",
              "       'Honda CR-V 2.0L', 'Honda CR-V 2.4', 'Honda CR-V 2.4L',\n",
              "       'Honda CR-V Petrol', 'Honda CR-V RVi', 'Honda City 1.3',\n",
              "       'Honda City 1.5', 'Honda City Corporate', 'Honda City V',\n",
              "       'Honda City ZX', 'Honda City i', 'Honda City i-DTEC',\n",
              "       'Honda City i-VTEC', 'Honda Civic 2006-2010',\n",
              "       'Honda Civic 2010-2013', 'Honda Jazz 1.2', 'Honda Jazz 1.5',\n",
              "       'Honda Jazz Active', 'Honda Jazz Exclusive', 'Honda Jazz Mode',\n",
              "       'Honda Jazz S', 'Honda Jazz Select', 'Honda Jazz V',\n",
              "       'Honda Jazz VX', 'Honda Mobilio E', 'Honda Mobilio RS',\n",
              "       'Honda Mobilio S', 'Honda Mobilio V', 'Honda WR-V Edge',\n",
              "       'Honda WRV i-VTEC', 'Hyundai Accent CRDi',\n",
              "       'Hyundai Accent Executive', 'Hyundai Accent GLE',\n",
              "       'Hyundai Accent GLS', 'Hyundai Creta 1.4', 'Hyundai Creta 1.6',\n",
              "       'Hyundai EON 1.0', 'Hyundai EON D', 'Hyundai EON Era',\n",
              "       'Hyundai EON Magna', 'Hyundai EON Sportz', 'Hyundai Elantra 1.6',\n",
              "       'Hyundai Elantra 2.0', 'Hyundai Elantra CRDi',\n",
              "       'Hyundai Elantra SX', 'Hyundai Elite i20', 'Hyundai Getz 1.3',\n",
              "       'Hyundai Getz 1.5', 'Hyundai Getz GLE', 'Hyundai Getz GLS',\n",
              "       'Hyundai Getz GVS', 'Hyundai Grand i10', 'Hyundai Santa Fe',\n",
              "       'Hyundai Santro D', 'Hyundai Santro Xing', 'Hyundai Sonata 2.4',\n",
              "       'Hyundai Sonata Embera', 'Hyundai Sonata GOLD',\n",
              "       'Hyundai Sonata Transform', 'Hyundai Tucson 2.0',\n",
              "       'Hyundai Tucson CRDi', 'Hyundai Verna 1.4', 'Hyundai Verna 1.6',\n",
              "       'Hyundai Verna CRDi', 'Hyundai Verna SX',\n",
              "       'Hyundai Verna Transform', 'Hyundai Verna VTVT',\n",
              "       'Hyundai Verna XXi', 'Hyundai Verna Xi', 'Hyundai Xcent 1.1',\n",
              "       'Hyundai Xcent 1.2', 'Hyundai i10 Asta', 'Hyundai i10 Era',\n",
              "       'Hyundai i10 Magna', 'Hyundai i10 Magna(O)', 'Hyundai i10 Sportz',\n",
              "       'Hyundai i20 1.2', 'Hyundai i20 1.4', 'Hyundai i20 2015-2017',\n",
              "       'Hyundai i20 Active', 'Hyundai i20 Asta', 'Hyundai i20 Diesel',\n",
              "       'Hyundai i20 Era', 'Hyundai i20 Magna', 'Hyundai i20 Sportz',\n",
              "       'ISUZU D-MAX V-Cross', 'Isuzu MUX 4WD', 'Jaguar F Type',\n",
              "       'Jaguar XE 2.0L', 'Jaguar XE Portfolio', 'Jaguar XF 2.0',\n",
              "       'Jaguar XF 2.2', 'Jaguar XF 3.0', 'Jaguar XF Aero',\n",
              "       'Jaguar XF Diesel', 'Jaguar XJ 2.0L', 'Jaguar XJ 3.0L',\n",
              "       'Jaguar XJ 5.0', 'Jeep Compass 1.4', 'Jeep Compass 2.0',\n",
              "       'Lamborghini Gallardo Coupe', 'Land Rover Discovery',\n",
              "       'Land Rover Freelander', 'Land Rover Range', 'Mahindra Bolero DI',\n",
              "       'Mahindra Bolero SLE', 'Mahindra Bolero SLX',\n",
              "       'Mahindra Bolero VLX', 'Mahindra Bolero ZLX',\n",
              "       'Mahindra Bolero mHAWK', 'Mahindra KUV 100',\n",
              "       'Mahindra Logan Diesel', 'Mahindra Logan Petrol',\n",
              "       'Mahindra NuvoSport N6', 'Mahindra NuvoSport N8',\n",
              "       'Mahindra Quanto C2', 'Mahindra Quanto C4', 'Mahindra Quanto C6',\n",
              "       'Mahindra Quanto C8', 'Mahindra Renault Logan',\n",
              "       'Mahindra Scorpio 1.99', 'Mahindra Scorpio 2.6',\n",
              "       'Mahindra Scorpio 2009-2014', 'Mahindra Scorpio DX',\n",
              "       'Mahindra Scorpio LX', 'Mahindra Scorpio S10',\n",
              "       'Mahindra Scorpio S2', 'Mahindra Scorpio S4',\n",
              "       'Mahindra Scorpio S6', 'Mahindra Scorpio S8',\n",
              "       'Mahindra Scorpio SLE', 'Mahindra Scorpio SLX',\n",
              "       'Mahindra Scorpio VLX', 'Mahindra Ssangyong Rexton',\n",
              "       'Mahindra TUV 300', 'Mahindra Thar CRDe', 'Mahindra Thar DI',\n",
              "       'Mahindra Verito 1.5', 'Mahindra XUV300 W8', 'Mahindra XUV500 AT',\n",
              "       'Mahindra XUV500 W10', 'Mahindra XUV500 W4', 'Mahindra XUV500 W6',\n",
              "       'Mahindra XUV500 W7', 'Mahindra XUV500 W8', 'Mahindra XUV500 W9',\n",
              "       'Mahindra Xylo D2', 'Mahindra Xylo D4', 'Mahindra Xylo E2',\n",
              "       'Mahindra Xylo E4', 'Mahindra Xylo E8', 'Mahindra Xylo H4',\n",
              "       'Maruti 800 AC', 'Maruti 800 DX', 'Maruti 800 Std',\n",
              "       'Maruti A-Star AT', 'Maruti A-Star Lxi', 'Maruti A-Star Vxi',\n",
              "       'Maruti Alto 800', 'Maruti Alto K10', 'Maruti Alto LX',\n",
              "       'Maruti Alto LXI', 'Maruti Alto LXi', 'Maruti Alto Std',\n",
              "       'Maruti Alto VXi', 'Maruti Alto Vxi', 'Maruti Baleno Alpha',\n",
              "       'Maruti Baleno Delta', 'Maruti Baleno LXI', 'Maruti Baleno RS',\n",
              "       'Maruti Baleno Sigma', 'Maruti Baleno Vxi', 'Maruti Baleno Zeta',\n",
              "       'Maruti Celerio LDi', 'Maruti Celerio LXI', 'Maruti Celerio VXI',\n",
              "       'Maruti Celerio ZDi', 'Maruti Celerio ZXI', 'Maruti Ciaz 1.3',\n",
              "       'Maruti Ciaz 1.4', 'Maruti Ciaz AT', 'Maruti Ciaz Alpha',\n",
              "       'Maruti Ciaz RS', 'Maruti Ciaz VDI', 'Maruti Ciaz VDi',\n",
              "       'Maruti Ciaz VXi', 'Maruti Ciaz ZDi', 'Maruti Ciaz ZXi',\n",
              "       'Maruti Ciaz Zeta', 'Maruti Dzire AMT', 'Maruti Dzire LDI',\n",
              "       'Maruti Dzire New', 'Maruti Dzire VDI', 'Maruti Dzire VXI',\n",
              "       'Maruti Dzire ZDI', 'Maruti Eeco 5', 'Maruti Eeco 7',\n",
              "       'Maruti Eeco Smiles', 'Maruti Ertiga LXI', 'Maruti Ertiga Paseo',\n",
              "       'Maruti Ertiga SHVS', 'Maruti Ertiga VDI', 'Maruti Ertiga VXI',\n",
              "       'Maruti Ertiga ZDI', 'Maruti Ertiga ZXI', 'Maruti Esteem Vxi',\n",
              "       'Maruti Grand Vitara', 'Maruti Ignis 1.2', 'Maruti Ignis 1.3',\n",
              "       'Maruti Omni 5', 'Maruti Omni 8', 'Maruti Omni E',\n",
              "       'Maruti Omni MPI', 'Maruti Ritz AT', 'Maruti Ritz LDi',\n",
              "       'Maruti Ritz LXI', 'Maruti Ritz LXi', 'Maruti Ritz VDI',\n",
              "       'Maruti Ritz VDi', 'Maruti Ritz VXI', 'Maruti Ritz VXi',\n",
              "       'Maruti Ritz ZDi', 'Maruti Ritz ZXI', 'Maruti Ritz ZXi',\n",
              "       'Maruti S Cross', 'Maruti S-Cross Alpha', 'Maruti S-Cross Delta',\n",
              "       'Maruti S-Cross Zeta', 'Maruti SX4 S', 'Maruti SX4 VDI',\n",
              "       'Maruti SX4 Vxi', 'Maruti SX4 ZDI', 'Maruti SX4 ZXI',\n",
              "       'Maruti SX4 Zxi', 'Maruti Swift AMT', 'Maruti Swift DDiS',\n",
              "       'Maruti Swift Dzire', 'Maruti Swift LDI', 'Maruti Swift LXI',\n",
              "       'Maruti Swift LXi', 'Maruti Swift Ldi', 'Maruti Swift Lxi',\n",
              "       'Maruti Swift RS', 'Maruti Swift VDI', 'Maruti Swift VDi',\n",
              "       'Maruti Swift VVT', 'Maruti Swift VXI', 'Maruti Swift VXi',\n",
              "       'Maruti Swift Vdi', 'Maruti Swift ZDI', 'Maruti Swift ZDi',\n",
              "       'Maruti Swift ZXI', 'Maruti Versa DX2', 'Maruti Vitara Brezza',\n",
              "       'Maruti Wagon R', 'Maruti Zen Estilo', 'Maruti Zen LX',\n",
              "       'Maruti Zen LXI', 'Maruti Zen LXi', 'Maruti Zen VX',\n",
              "       'Maruti Zen VXI', 'Maruti Zen VXi', 'Mercedes-Benz A Class',\n",
              "       'Mercedes-Benz B Class', 'Mercedes-Benz C-Class Progressive',\n",
              "       'Mercedes-Benz CLA 200', 'Mercedes-Benz CLS-Class 2006-2010',\n",
              "       'Mercedes-Benz E-Class 200', 'Mercedes-Benz E-Class 2009-2013',\n",
              "       'Mercedes-Benz E-Class 2015-2017', 'Mercedes-Benz E-Class 230',\n",
              "       'Mercedes-Benz E-Class 250', 'Mercedes-Benz E-Class 280',\n",
              "       'Mercedes-Benz E-Class E', 'Mercedes-Benz E-Class E250',\n",
              "       'Mercedes-Benz E-Class E270', 'Mercedes-Benz E-Class E350',\n",
              "       'Mercedes-Benz E-Class E400', 'Mercedes-Benz E-Class Facelift',\n",
              "       'Mercedes-Benz GL-Class 2007', 'Mercedes-Benz GL-Class 350',\n",
              "       'Mercedes-Benz GLA Class', 'Mercedes-Benz GLC 220',\n",
              "       'Mercedes-Benz GLC 220d', 'Mercedes-Benz GLC 43',\n",
              "       'Mercedes-Benz GLE 250d', 'Mercedes-Benz GLE 350d',\n",
              "       'Mercedes-Benz GLS 350d', 'Mercedes-Benz M-Class ML',\n",
              "       'Mercedes-Benz New C-Class', 'Mercedes-Benz R-Class R350',\n",
              "       'Mercedes-Benz S Class', 'Mercedes-Benz S-Class 280',\n",
              "       'Mercedes-Benz S-Class 320', 'Mercedes-Benz S-Class S',\n",
              "       'Mercedes-Benz SL-Class SL', 'Mercedes-Benz SLC 43',\n",
              "       'Mercedes-Benz SLK-Class 55', 'Mercedes-Benz SLK-Class SLK',\n",
              "       'Mini Clubman Cooper', 'Mini Cooper 3', 'Mini Cooper 5',\n",
              "       'Mini Cooper Convertible', 'Mini Cooper Countryman',\n",
              "       'Mini Cooper S', 'Mini Countryman Cooper',\n",
              "       'Mitsubishi Cedia Sports', 'Mitsubishi Lancer 1.5',\n",
              "       'Mitsubishi Lancer GLXD', 'Mitsubishi Montero 3.2',\n",
              "       'Mitsubishi Outlander 2.4', 'Mitsubishi Pajero 2.8',\n",
              "       'Mitsubishi Pajero 4X4', 'Mitsubishi Pajero Sport',\n",
              "       'Nissan Evalia 2013', 'Nissan Micra Active', 'Nissan Micra Diesel',\n",
              "       'Nissan Micra XE', 'Nissan Micra XL', 'Nissan Micra XV',\n",
              "       'Nissan Sunny 2011-2014', 'Nissan Sunny Diesel', 'Nissan Sunny XE',\n",
              "       'Nissan Sunny XL', 'Nissan Sunny XV', 'Nissan Teana XV',\n",
              "       'Nissan Terrano XL', 'Nissan Terrano XV', 'Nissan X-Trail SLX',\n",
              "       'Porsche Boxster S', 'Porsche Cayenne 2009-2014',\n",
              "       'Porsche Cayenne Base', 'Porsche Cayenne Diesel',\n",
              "       'Porsche Cayenne S', 'Porsche Cayenne Turbo',\n",
              "       'Porsche Panamera 2010', 'Porsche Panamera Diesel',\n",
              "       'Renault Captur 1.5', 'Renault Duster 110PS',\n",
              "       'Renault Duster 85PS', 'Renault Duster Adventure',\n",
              "       'Renault Duster Petrol', 'Renault Duster RXZ',\n",
              "       'Renault Fluence 1.5', 'Renault Fluence 2.0',\n",
              "       'Renault Fluence Diesel', 'Renault KWID 1.0', 'Renault KWID AMT',\n",
              "       'Renault KWID Climber', 'Renault KWID RXL', 'Renault KWID RXT',\n",
              "       'Renault Koleos 2.0', 'Renault Lodgy 110PS',\n",
              "       'Renault Pulse Petrol', 'Renault Pulse RxL',\n",
              "       'Renault Scala Diesel', 'Renault Scala RxL', 'Skoda Fabia 1.2',\n",
              "       'Skoda Fabia 1.2L', 'Skoda Fabia 1.4', 'Skoda Fabia 1.6',\n",
              "       'Skoda Laura 1.8', 'Skoda Laura 1.9', 'Skoda Laura Ambiente',\n",
              "       'Skoda Laura Ambition', 'Skoda Laura Elegance', 'Skoda Laura L',\n",
              "       'Skoda Laura RS', 'Skoda Octavia 1.9', 'Skoda Octavia 2.0',\n",
              "       'Skoda Octavia Ambiente', 'Skoda Octavia Ambition',\n",
              "       'Skoda Octavia Classic', 'Skoda Octavia Elegance',\n",
              "       'Skoda Octavia L', 'Skoda Octavia RS', 'Skoda Octavia Rider',\n",
              "       'Skoda Octavia Style', 'Skoda Rapid 1.5', 'Skoda Rapid 1.6',\n",
              "       'Skoda Rapid 2013-2016', 'Skoda Rapid Leisure',\n",
              "       'Skoda Rapid Ultima', 'Skoda Superb 1.8', 'Skoda Superb 2.5',\n",
              "       'Skoda Superb 2.8', 'Skoda Superb 2009-2014', 'Skoda Superb 3.6',\n",
              "       'Skoda Superb Ambition', 'Skoda Superb Elegance',\n",
              "       'Skoda Superb L&K', 'Skoda Superb Style', 'Skoda Yeti Ambition',\n",
              "       'Skoda Yeti Elegance', 'Tata Bolt Quadrajet', 'Tata Bolt Revotron',\n",
              "       'Tata Hexa XT', 'Tata Hexa XTA', 'Tata Indica GLS',\n",
              "       'Tata Indica LEI', 'Tata Indica V2', 'Tata Indica Vista',\n",
              "       'Tata Indigo CS', 'Tata Indigo GLE', 'Tata Indigo LS',\n",
              "       'Tata Indigo LX', 'Tata Indigo XL', 'Tata Indigo eCS',\n",
              "       'Tata Manza Aqua', 'Tata Manza Aura', 'Tata Manza Club',\n",
              "       'Tata Manza ELAN', 'Tata Nano CX', 'Tata Nano Cx', 'Tata Nano LX',\n",
              "       'Tata Nano Lx', 'Tata Nano STD', 'Tata Nano Twist', 'Tata Nano XT',\n",
              "       'Tata Nano XTA', 'Tata New Safari', 'Tata Nexon 1.2',\n",
              "       'Tata Nexon 1.5', 'Tata Safari DICOR', 'Tata Safari Storme',\n",
              "       'Tata Sumo DX', 'Tata Sumo Delux', 'Tata Sumo EX',\n",
              "       'Tata Tiago 1.2', 'Tata Tiago AMT', 'Tata Tiago Wizz',\n",
              "       'Tata Tigor 1.05', 'Tata Tigor 1.2', 'Tata Tigor XE',\n",
              "       'Tata Venture EX', 'Tata Xenon XT', 'Tata Zest Quadrajet',\n",
              "       'Tata Zest Revotron', 'Toyota Camry 2.5', 'Toyota Camry A/T',\n",
              "       'Toyota Camry Hybrid', 'Toyota Camry W2', 'Toyota Camry W4',\n",
              "       'Toyota Corolla 1.8', 'Toyota Corolla Altis', 'Toyota Corolla DX',\n",
              "       'Toyota Corolla Executive', 'Toyota Corolla H2',\n",
              "       'Toyota Corolla H4', 'Toyota Corolla H5', 'Toyota Etios 1.4',\n",
              "       'Toyota Etios Cross', 'Toyota Etios G', 'Toyota Etios GD',\n",
              "       'Toyota Etios Liva', 'Toyota Etios Petrol', 'Toyota Etios V',\n",
              "       'Toyota Etios VD', 'Toyota Etios VX', 'Toyota Etios VXD',\n",
              "       'Toyota Fortuner 2.8', 'Toyota Fortuner 3.0',\n",
              "       'Toyota Fortuner 4x2', 'Toyota Fortuner 4x4',\n",
              "       'Toyota Fortuner TRD', 'Toyota Innova 2.0', 'Toyota Innova 2.5',\n",
              "       'Toyota Innova Crysta', 'Toyota Platinum Etios',\n",
              "       'Toyota Qualis FS', 'Volkswagen Ameo 1.2', 'Volkswagen Ameo 1.5',\n",
              "       'Volkswagen Beetle 2.0', 'Volkswagen CrossPolo 1.5',\n",
              "       'Volkswagen Jetta 2007-2011', 'Volkswagen Jetta 2012-2014',\n",
              "       'Volkswagen Jetta 2013-2015', 'Volkswagen Passat 1.8',\n",
              "       'Volkswagen Passat 2.0', 'Volkswagen Passat Diesel',\n",
              "       'Volkswagen Passat Highline', 'Volkswagen Polo 1.0',\n",
              "       'Volkswagen Polo 1.2', 'Volkswagen Polo 1.5',\n",
              "       'Volkswagen Polo Diesel', 'Volkswagen Polo GT',\n",
              "       'Volkswagen Polo GTI', 'Volkswagen Polo IPL',\n",
              "       'Volkswagen Polo Petrol', 'Volkswagen Tiguan 2.0',\n",
              "       'Volkswagen Vento 1.2', 'Volkswagen Vento 1.5',\n",
              "       'Volkswagen Vento 1.6', 'Volkswagen Vento 2013-2015',\n",
              "       'Volkswagen Vento Diesel', 'Volkswagen Vento IPL',\n",
              "       'Volkswagen Vento Konekt', 'Volkswagen Vento Magnific',\n",
              "       'Volkswagen Vento Petrol', 'Volkswagen Vento Sport',\n",
              "       'Volkswagen Vento TSI', 'Volvo S60 D3', 'Volvo S60 D4',\n",
              "       'Volvo S60 D5', 'Volvo S80 2006-2013', 'Volvo S80 D5',\n",
              "       'Volvo V40 Cross', 'Volvo V40 D3', 'Volvo XC60 D4',\n",
              "       'Volvo XC60 D5', 'Volvo XC90 2007-2015'], dtype=object)"
            ]
          },
          "execution_count": 103,
          "metadata": {},
          "output_type": "execute_result"
        }
      ],
      "source": [
        "pipe.steps[0][1].transformers[0][1].categories[0]"
      ]
    },
    {
      "cell_type": "code",
      "execution_count": 104,
      "metadata": {
        "colab": {
          "base_uri": "https://localhost:8080/",
          "height": 300
        },
        "id": "8hBg6ThX4yyk",
        "outputId": "484d1ded-47f4-4190-aa63-ef098b07ea0e"
      },
      "outputs": [
        {
          "data": {
            "text/html": [
              "<div>\n",
              "<style scoped>\n",
              "    .dataframe tbody tr th:only-of-type {\n",
              "        vertical-align: middle;\n",
              "    }\n",
              "\n",
              "    .dataframe tbody tr th {\n",
              "        vertical-align: top;\n",
              "    }\n",
              "\n",
              "    .dataframe thead th {\n",
              "        text-align: right;\n",
              "    }\n",
              "</style>\n",
              "<table border=\"1\" class=\"dataframe\">\n",
              "  <thead>\n",
              "    <tr style=\"text-align: right;\">\n",
              "      <th></th>\n",
              "      <th>Unnamed: 0</th>\n",
              "      <th>Year</th>\n",
              "      <th>Kilometers_Driven</th>\n",
              "      <th>Seats</th>\n",
              "      <th>Price</th>\n",
              "    </tr>\n",
              "  </thead>\n",
              "  <tbody>\n",
              "    <tr>\n",
              "      <th>count</th>\n",
              "      <td>5807.000000</td>\n",
              "      <td>5807.000000</td>\n",
              "      <td>5.807000e+03</td>\n",
              "      <td>5807.000000</td>\n",
              "      <td>5807.000000</td>\n",
              "    </tr>\n",
              "    <tr>\n",
              "      <th>mean</th>\n",
              "      <td>3013.686585</td>\n",
              "      <td>2013.475805</td>\n",
              "      <td>5.834902e+04</td>\n",
              "      <td>5.286551</td>\n",
              "      <td>9.673429</td>\n",
              "    </tr>\n",
              "    <tr>\n",
              "      <th>std</th>\n",
              "      <td>1737.960240</td>\n",
              "      <td>3.170718</td>\n",
              "      <td>9.265556e+04</td>\n",
              "      <td>0.806790</td>\n",
              "      <td>11.292012</td>\n",
              "    </tr>\n",
              "    <tr>\n",
              "      <th>min</th>\n",
              "      <td>1.000000</td>\n",
              "      <td>1998.000000</td>\n",
              "      <td>1.710000e+02</td>\n",
              "      <td>2.000000</td>\n",
              "      <td>0.440000</td>\n",
              "    </tr>\n",
              "    <tr>\n",
              "      <th>25%</th>\n",
              "      <td>1508.500000</td>\n",
              "      <td>2012.000000</td>\n",
              "      <td>3.328800e+04</td>\n",
              "      <td>5.000000</td>\n",
              "      <td>3.590000</td>\n",
              "    </tr>\n",
              "    <tr>\n",
              "      <th>50%</th>\n",
              "      <td>3017.000000</td>\n",
              "      <td>2014.000000</td>\n",
              "      <td>5.240000e+04</td>\n",
              "      <td>5.000000</td>\n",
              "      <td>5.750000</td>\n",
              "    </tr>\n",
              "    <tr>\n",
              "      <th>75%</th>\n",
              "      <td>4518.500000</td>\n",
              "      <td>2016.000000</td>\n",
              "      <td>7.245750e+04</td>\n",
              "      <td>5.000000</td>\n",
              "      <td>10.250000</td>\n",
              "    </tr>\n",
              "    <tr>\n",
              "      <th>max</th>\n",
              "      <td>6018.000000</td>\n",
              "      <td>2019.000000</td>\n",
              "      <td>6.500000e+06</td>\n",
              "      <td>10.000000</td>\n",
              "      <td>160.000000</td>\n",
              "    </tr>\n",
              "  </tbody>\n",
              "</table>\n",
              "</div>"
            ],
            "text/plain": [
              "        Unnamed: 0         Year  Kilometers_Driven        Seats        Price\n",
              "count  5807.000000  5807.000000       5.807000e+03  5807.000000  5807.000000\n",
              "mean   3013.686585  2013.475805       5.834902e+04     5.286551     9.673429\n",
              "std    1737.960240     3.170718       9.265556e+04     0.806790    11.292012\n",
              "min       1.000000  1998.000000       1.710000e+02     2.000000     0.440000\n",
              "25%    1508.500000  2012.000000       3.328800e+04     5.000000     3.590000\n",
              "50%    3017.000000  2014.000000       5.240000e+04     5.000000     5.750000\n",
              "75%    4518.500000  2016.000000       7.245750e+04     5.000000    10.250000\n",
              "max    6018.000000  2019.000000       6.500000e+06    10.000000   160.000000"
            ]
          },
          "execution_count": 104,
          "metadata": {},
          "output_type": "execute_result"
        }
      ],
      "source": [
        "df.describe()"
      ]
    },
    {
      "cell_type": "code",
      "execution_count": 105,
      "metadata": {
        "id": "TIrsdKO36qfL"
      },
      "outputs": [],
      "source": [
        "from sklearn.linear_model import Ridge\n",
        "\n",
        "# Ridge Regression\n",
        "ridge = Ridge(alpha=1.0)\n",
        "pipe_ridge = make_pipeline(column_trans, ridge)\n",
        "\n",
        "# Train Ridge Regression model\n",
        "pipe_ridge.fit(X_train, y_train)\n",
        "\n",
        "# Predict with Ridge Regression\n",
        "y_pred_ridge = pipe_ridge.predict(X_test)\n",
        "\n",
        "# Evaluate Ridge Regression model\n",
        "r2_score_ridge = r2_score(y_test, y_pred_ridge)\n",
        "\n",
        "# Save Ridge Regression model\n",
        "pickle.dump(pipe_ridge, open('RidgeRegressionModel.pkl', 'wb'))\n"
      ]
    },
    {
      "cell_type": "code",
      "execution_count": 106,
      "metadata": {
        "colab": {
          "base_uri": "https://localhost:8080/"
        },
        "id": "pz9M-rw862BD",
        "outputId": "27bf2690-2f29-494d-d6db-12ea7b700a05"
      },
      "outputs": [
        {
          "data": {
            "text/plain": [
              "0.7633919571894328"
            ]
          },
          "execution_count": 106,
          "metadata": {},
          "output_type": "execute_result"
        }
      ],
      "source": [
        "X_train,X_test,y_train,y_test=train_test_split(X,y,test_size=0.1,random_state=np.argmax(scores))\n",
        "pipe=make_pipeline(column_trans,ridge)\n",
        "pipe.fit(X_train,y_train)\n",
        "y_pred=pipe.predict(X_test)\n",
        "r2_score(y_test,y_pred)"
      ]
    },
    {
      "cell_type": "code",
      "execution_count": 107,
      "metadata": {
        "colab": {
          "base_uri": "https://localhost:8080/"
        },
        "id": "DU6PiCUd7D6i",
        "outputId": "2a595e00-3f22-4b9e-851b-f83f3215806e"
      },
      "outputs": [
        {
          "data": {
            "text/plain": [
              "0.1666280552211683"
            ]
          },
          "execution_count": 107,
          "metadata": {},
          "output_type": "execute_result"
        }
      ],
      "source": [
        "from sklearn.linear_model import Lasso\n",
        "\n",
        "# Lasso Regression\n",
        "lasso = Lasso(alpha=1.0)\n",
        "pipe_lasso = make_pipeline(column_trans, lasso)\n",
        "\n",
        "# Train Lasso Regression model\n",
        "pipe_lasso.fit(X_train, y_train)\n",
        "\n",
        "# Predict with Lasso Regression\n",
        "y_pred_lasso = pipe_lasso.predict(X_test)\n",
        "\n",
        "# Evaluate Lasso Regression model\n",
        "r2_score_lasso = r2_score(y_test, y_pred_lasso)\n",
        "\n",
        "# Save Lasso Regression model\n",
        "pickle.dump(pipe_lasso, open('LassoRegressionModel.pkl', 'wb'))\n",
        "\n",
        "X_train,X_test,y_train,y_test=train_test_split(X,y,test_size=0.1,random_state=np.argmax(scores))\n",
        "pipe=make_pipeline(column_trans,lasso)\n",
        "pipe.fit(X_train,y_train)\n",
        "y_pred=pipe.predict(X_test)\n",
        "r2_score(y_test,y_pred)"
      ]
    },
    {
      "cell_type": "code",
      "execution_count": 108,
      "metadata": {
        "colab": {
          "base_uri": "https://localhost:8080/"
        },
        "id": "tehV3Cs-7R6S",
        "outputId": "0d9bc6a4-446c-46d1-e297-559c6af5d533"
      },
      "outputs": [
        {
          "data": {
            "text/plain": [
              "0.9224650167528232"
            ]
          },
          "execution_count": 108,
          "metadata": {},
          "output_type": "execute_result"
        }
      ],
      "source": [
        "from sklearn.ensemble import RandomForestRegressor\n",
        "\n",
        "# Random Forest Regression\n",
        "rf = RandomForestRegressor(n_estimators=100, random_state=42)\n",
        "pipe_rf = make_pipeline(column_trans, rf)\n",
        "\n",
        "# Train Random Forest Regression model\n",
        "pipe_rf.fit(X_train, y_train)\n",
        "\n",
        "# Predict with Random Forest Regression\n",
        "y_pred_rf = pipe_rf.predict(X_test)\n",
        "\n",
        "# Evaluate Random Forest Regression model\n",
        "r2_score_rf = r2_score(y_test, y_pred_rf)\n",
        "\n",
        "# Save Random Forest Regression model\n",
        "pickle.dump(pipe_rf, open('RandomForestRegressionModel.pkl', 'wb'))\n",
        "\n",
        "X_train,X_test,y_train,y_test=train_test_split(X,y,test_size=0.1,random_state=np.argmax(scores))\n",
        "pipe=make_pipeline(column_trans,rf)\n",
        "pipe.fit(X_train,y_train)\n",
        "y_pred=pipe.predict(X_test)\n",
        "r2_score(y_test,y_pred)"
      ]
    }
  ],
  "metadata": {
    "colab": {
      "provenance": []
    },
    "kernelspec": {
      "display_name": "Python 3",
      "name": "python3"
    },
    "language_info": {
      "codemirror_mode": {
        "name": "ipython",
        "version": 3
      },
      "file_extension": ".py",
      "mimetype": "text/x-python",
      "name": "python",
      "nbconvert_exporter": "python",
      "pygments_lexer": "ipython3",
      "version": "3.12.0"
    }
  },
  "nbformat": 4,
  "nbformat_minor": 0
}
